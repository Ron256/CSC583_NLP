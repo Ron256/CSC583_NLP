{
  "nbformat": 4,
  "nbformat_minor": 0,
  "metadata": {
    "colab": {
      "provenance": [],
      "machine_shape": "hm",
      "toc_visible": true
    },
    "kernelspec": {
      "name": "python3",
      "display_name": "Python 3"
    },
    "language_info": {
      "name": "python"
    },
    "accelerator": "GPU",
    "gpuClass": "standard"
  },
  "cells": [
    {
      "cell_type": "markdown",
      "source": [
        "**Ronaldlee Ejalu**\n",
        "\n",
        "**CSC 583**\n",
        "\n",
        "**HW#4**"
      ],
      "metadata": {
        "id": "UrPYdXgWbhNE"
      }
    },
    {
      "cell_type": "code",
      "execution_count": 153,
      "metadata": {
        "id": "LRsKI1jWkQli",
        "colab": {
          "base_uri": "https://localhost:8080/"
        },
        "outputId": "31ae7fe0-ec9f-4d20-e38f-85dc2e2b53af"
      },
      "outputs": [
        {
          "output_type": "stream",
          "name": "stderr",
          "text": [
            "[nltk_data] Downloading package punkt to /root/nltk_data...\n",
            "[nltk_data]   Package punkt is already up-to-date!\n"
          ]
        }
      ],
      "source": [
        "import csv\n",
        "import re\n",
        "import os\n",
        "import tarfile\n",
        "import numpy as np\n",
        "import pandas as pd\n",
        "import pickle\n",
        "import random\n",
        "import nltk\n",
        "nltk.download(\"punkt\")\n",
        "# tokenize the string without whitespaces, newline and tabs\n",
        "from nltk.tokenize import WhitespaceTokenizer \n",
        "from nltk.util import ngrams\n",
        "import itertools\n",
        "import collections\n",
        "from collections import Counter\n",
        "pd.options.display.max_columns = None"
      ]
    },
    {
      "cell_type": "code",
      "source": [
        "from google.colab import drive\n",
        "drive.mount('/gdrive')"
      ],
      "metadata": {
        "colab": {
          "base_uri": "https://localhost:8080/"
        },
        "id": "JN5_tnIcGF1v",
        "outputId": "52e60f8b-1098-4682-f574-3064ae3c451f"
      },
      "execution_count": 154,
      "outputs": [
        {
          "output_type": "stream",
          "name": "stdout",
          "text": [
            "Drive already mounted at /gdrive; to attempt to forcibly remount, call drive.mount(\"/gdrive\", force_remount=True).\n"
          ]
        }
      ]
    },
    {
      "cell_type": "code",
      "source": [
        "%cd /gdrive/MyDrive/CSC583"
      ],
      "metadata": {
        "colab": {
          "base_uri": "https://localhost:8080/"
        },
        "id": "Ej3W1en9GfPs",
        "outputId": "9c0cc127-e219-48df-d4a3-710389ab9eeb"
      },
      "execution_count": 155,
      "outputs": [
        {
          "output_type": "stream",
          "name": "stdout",
          "text": [
            "/gdrive/MyDrive/CSC583\n"
          ]
        }
      ]
    },
    {
      "cell_type": "markdown",
      "source": [
        "neg and pos diirectories' path"
      ],
      "metadata": {
        "id": "vz6UAbaG4LmW"
      }
    },
    {
      "cell_type": "code",
      "source": [
        "directoryPath_neg = '/gdrive/MyDrive/CSC583/data/homework3/txt_sentoken/neg'\n",
        "directoryPath_pos = '/gdrive/MyDrive/CSC583/data/homework3/txt_sentoken/pos'\n"
      ],
      "metadata": {
        "id": "qpv8vkUJ6CKc"
      },
      "execution_count": 156,
      "outputs": []
    },
    {
      "cell_type": "markdown",
      "source": [
        "train and test directories' path"
      ],
      "metadata": {
        "id": "G7a0-Qua4YFz"
      }
    },
    {
      "cell_type": "code",
      "source": [
        "directoryPath_train_o = '/gdrive/MyDrive/CSC583/data/homework3/txt_sentoken/train'\n",
        "directoryPath_test_o = '/gdrive/MyDrive/CSC583/data/homework3/txt_sentoken/test'"
      ],
      "metadata": {
        "id": "Ae6dLjNeL5WR"
      },
      "execution_count": 157,
      "outputs": []
    },
    {
      "cell_type": "code",
      "source": [
        "directoryPath_train_labels = '/gdrive/MyDrive/CSC583/data/homework3/txt_sentoken/train_labels'\n",
        "directoryPath_test_labels = '/gdrive/MyDrive/CSC583/data/homework3/txt_sentoken/test_labels'"
      ],
      "metadata": {
        "id": "-XypgsOTRssn"
      },
      "execution_count": 158,
      "outputs": []
    },
    {
      "cell_type": "markdown",
      "source": [
        "regular expressions for extracting train and test sets"
      ],
      "metadata": {
        "id": "sPki6Qqo4nb1"
      }
    },
    {
      "cell_type": "code",
      "source": [
        "wordPattern_pos = r'^cv[0-7]{1}'\n",
        "wordPattern_neg = r'^cv[8-9]{1}'"
      ],
      "metadata": {
        "id": "gXJC9OI2kX57"
      },
      "execution_count": 159,
      "outputs": []
    },
    {
      "cell_type": "markdown",
      "source": [
        "helper functions"
      ],
      "metadata": {
        "id": "GV9F619p_IyO"
      }
    },
    {
      "cell_type": "code",
      "source": [
        "#train_groundTruth_L = []\n",
        "#test_groundTruth_L = []\n",
        "def deriveTrainAndTest(directory_for_pos_or_neg, wordPattern_pos, srcPathFiles, destFilePath, labels, groudTruth_L):\n",
        "  \"\"\"Function that uses a regular expression that assigns files that start with cv0 \n",
        "  through cv7 to the training and files that start with cv8 and cv9 to the test set\"\"\"\n",
        "  \n",
        "  for file in directory_for_pos_or_neg:\n",
        "    t = re.findall(wordPattern_pos, file)\n",
        "    if len(t) > 0:\n",
        "      srcPath = os.path.join(srcPathFiles, file)\n",
        "      destPath = os.path.join(destFilePath, file)\n",
        "      os.rename(srcPath, destPath)\n",
        "      groudTruth_L.append(labels)         "
      ],
      "metadata": {
        "id": "bVXz64SA5jw_"
      },
      "execution_count": 160,
      "outputs": []
    },
    {
      "cell_type": "code",
      "source": [
        "def readPlainDoc(filename_s):\n",
        "  \"\"\"Function that returns a string in lower case after reading the contents of the file\"\"\"\n",
        "  fileNamePath = \"data/homework3/sentiment_lexicon/\" + filename_s\n",
        "  with open(fileNamePath, 'r',  encoding = 'ISO-8859-1') as sampleFile:\n",
        "    fileContents = sampleFile.read()\n",
        "  # normalize all words to lower case\n",
        "  return fileContents.lower()"
      ],
      "metadata": {
        "id": "BKcsgtjuAdHH"
      },
      "execution_count": 161,
      "outputs": []
    },
    {
      "cell_type": "code",
      "source": [
        "def dumpListToFile(listName, groundTruth_labels):\n",
        "  fileName = '/gdrive/MyDrive/CSC583/data/homework3/data/' + groundTruth_labels + '.csv'\n",
        "  with open(fileName, 'w') as file:\n",
        "    for item in listName:\n",
        "      file.write(str(item) +'\\n')"
      ],
      "metadata": {
        "id": "SAX5Lv56KsZe"
      },
      "execution_count": 162,
      "outputs": []
    },
    {
      "cell_type": "code",
      "source": [
        "def readCSVFiles(fileName):\n",
        "  filePath = '/gdrive/MyDrive/CSC583/data/homework3/data/' + fileName\n",
        "  fileItems = []\n",
        "  with open(filePath, 'r') as file:\n",
        "    csvFile = csv.reader(file)\n",
        "    for line in csvFile:\n",
        "      fileItems.append(line)\n",
        "  return fileItems"
      ],
      "metadata": {
        "id": "xGK3ePJlQloC"
      },
      "execution_count": 163,
      "outputs": []
    },
    {
      "cell_type": "code",
      "source": [
        "def cntPosNeg_adjec(tokenizedText, lexicon_positive_words, cnt_pos_adjec):\n",
        "  \"\"\"Function that returns either the number of positive or negative adjectives\n",
        "  \"\"\"\n",
        "  pos_text = nltk.pos_tag(tokenizedText)\n",
        "  for p_item in pos_text:\n",
        "    if p_item[1].startswith('J') and p_item[0] in lexicon_positive_words:\n",
        "      cnt_pos_adjec += 1\n",
        "  return cnt_pos_adjec"
      ],
      "metadata": {
        "id": "LQPh6h-18qt3"
      },
      "execution_count": 164,
      "outputs": []
    },
    {
      "cell_type": "code",
      "source": [
        "def readDirectoryFiles(directoryFiles_train, filepath):\n",
        "  \"\"\"Function that returns a list of documents after reading all files in the directory\"\"\"\n",
        "  train_L_Files = directoryFiles_train\n",
        "  train_text_L = []\n",
        "  \n",
        "  for file in train_L_Files:\n",
        "    filePath = filepath + file\n",
        "    f_c = open(filePath, \"r\")\n",
        "    train_text_L.append(f_c.read())\n",
        "  return train_text_L"
      ],
      "metadata": {
        "id": "dOmQmyA9McGU"
      },
      "execution_count": 165,
      "outputs": []
    },
    {
      "cell_type": "code",
      "source": [
        "df_reviews = pd.DataFrame()\n",
        "def remove_blanks(pd_f = df_reviews):\n",
        "  # remove blanks from review\n",
        "  blanks = []  # start with an empty list\n",
        "  \n",
        "  for lb,rv in pd_f.itertuples():\n",
        "    if type(rv)==str:\n",
        "      if rv.isspace():\n",
        "        blanks.append(lb)     \n",
        "  pd_f.drop(blanks, inplace=True)\n",
        "  return pd_f"
      ],
      "metadata": {
        "id": "TVePlabMuz72"
      },
      "execution_count": 166,
      "outputs": []
    },
    {
      "cell_type": "code",
      "source": [
        "reviews_train_df=pd.DataFrame()\n",
        "def segmentDataIntoPosOrNeg(pd_f=reviews_train_df, no_flag=1):\n",
        "  \"\"\"Function that returns either positive or negative reviews data frame\"\"\"\n",
        "  filter_neg_t = (pd_f['labels'] == no_flag)\n",
        "  df_train_reviews_neg = pd_f[filter_neg_t]\n",
        "  return df_train_reviews_neg # return a data frame"
      ],
      "metadata": {
        "id": "fNaFsWP0Mk7e"
      },
      "execution_count": 167,
      "outputs": []
    },
    {
      "cell_type": "code",
      "source": [
        "df_train_reviews_pos_0_1=pd.DataFrame()\n",
        "def process_reviews_concatenated_sent(pd_f=df_train_reviews_pos_0_1):\n",
        "  \"\"\"Function that returns a chained list of all sentences combining all reviews together\"\"\"\n",
        "  reviews_pos_L = pd_f['reviews'].values.tolist() # convert the data frame column into a list\n",
        "  left_starter_marker = '<s>'\n",
        "  right_end_marker = '</s>'\n",
        "  review_L = []\n",
        "  wtk = WhitespaceTokenizer()\n",
        "  for review  in reviews_pos_L:\n",
        "    # break down the review into sentences\n",
        "    sentences = nltk.sent_tokenize(review)\n",
        "    list_of_tk_sent = []\n",
        "    for item in range(len(sentences)):\n",
        "      # for each sentence append the right and left markers\n",
        "      s = left_starter_marker + ' ' + sentences[item] + ' ' + right_end_marker\n",
        "      s = wtk.tokenize(s)\n",
        "      \n",
        "      # add the tokenized sentence to a list \n",
        "      list_of_tk_sent.append(s)\n",
        "    #print('printing the list before chaining: %s' %str(list_of_tk_sent))\n",
        "      # derive the chained list of sentences of a review \n",
        "    chain_L = list(itertools.chain.from_iterable(list_of_tk_sent))\n",
        "    # add the chained list of sentences of a review to the list\n",
        "    review_L.append(chain_L)\n",
        "    #print('lenght of the list: %s' %str(len(review_L)))\n",
        "  # chain the lists of the different reviews' sentences together\n",
        "  chained_reviews_L = list(itertools.chain.from_iterable(review_L)) \n",
        "  #print('length of chained list: %s' %str(len(chained_reviews_L)))\n",
        "  \n",
        "  return chained_reviews_L"
      ],
      "metadata": {
        "id": "cKoyR22oUqoU"
      },
      "execution_count": 168,
      "outputs": []
    },
    {
      "cell_type": "code",
      "source": [
        "dict_pos = {}\n",
        "def view_sample_items_bi_grams(dict_pos):\n",
        "  \"\"\"Function that iterates over a \n",
        "  bigram while printing its contents\n",
        "  \"\"\"\n",
        "  count = 1\n",
        "  for x, y in dict_pos:\n",
        "    if count <= 5:\n",
        "      print('[2 - {}] <{}, {}>'.format(count, x, y))\n",
        "    else:\n",
        "      break\n",
        "    count +=1 "
      ],
      "metadata": {
        "id": "HseBWwFLT_ny"
      },
      "execution_count": 169,
      "outputs": []
    },
    {
      "cell_type": "code",
      "source": [
        "tri_grams_reviews_pos_train = zip()\n",
        "def view_sample_items_tri_grams(tri_grams_reviews_pos_train):\n",
        "  \"\"\"Function that iterates over a trigram as it prints its contents\"\"\"\n",
        "  tri_grams_reviews_pos_train_c = [((x_0, x_1), x_2) for (x_0, x_1, x_2) in tri_grams_reviews_pos_train]\n",
        "  count = 0\n",
        "  for item in tri_grams_reviews_pos_train_c:\n",
        "    if count <= 5:\n",
        "      print('[3 - {}] {}'.format(count, item))\n",
        "    else:\n",
        "      break\n",
        "    count += 1\n"
      ],
      "metadata": {
        "id": "q0UjofDuuBuB"
      },
      "execution_count": 170,
      "outputs": []
    },
    {
      "cell_type": "code",
      "source": [
        "quad_grams_reviews_pos_train = zip()\n",
        "def view_sample_items_quad_grams(quad_grams_reviews_pos_train):\n",
        "  \"\"\"Function that iterates over a quadgram as it prints its contents\"\"\"\n",
        "  quad_grams_reviews_pos_train_c = [((x_0, x_1, x_2), x_3)  for (x_0, x_1, x_2, x_3) in quad_grams_reviews_pos_train]\n",
        "  count = 0\n",
        "  for item in quad_grams_reviews_pos_train_c:\n",
        "    if count <= 5:\n",
        "      print('[4 - {}] {}'.format(count, item))\n",
        "    else:\n",
        "      break\n",
        "    count += 1\n"
      ],
      "metadata": {
        "id": "5QImY7K1mlU5"
      },
      "execution_count": 171,
      "outputs": []
    },
    {
      "cell_type": "code",
      "source": [
        "def deriveBigram_model(cfd_bi_gram_train):\n",
        "  \"\"\"Function that return a dictionary of probabilities of the next word given the history\"\"\"\n",
        "  bigram_modal = collections.defaultdict(lambda: collections.defaultdict(lambda: 0))\n",
        "  for key, val in cfd_bi_gram_train.items():\n",
        "    # collect all bigram frequencies\n",
        "    for k, v in val.items():\n",
        "      bigram_modal[key][k] = v\n",
        "\n",
        "  for x1 in bigram_modal:\n",
        "    bi_modal_cnt = float(sum(bigram_modal[x1].values()))\n",
        "    #print(x1, bi_modal_cnt)\n",
        "    # derive the probabilities of the bigram\n",
        "    for x2 in bigram_modal[x1]:\n",
        "      bigram_modal[x1][x2]  = bigram_modal[x1][x2] / bi_modal_cnt\n",
        "      #print(x1, x2, bigram_modal[x1][x2])\n",
        "\n",
        "  return bigram_modal"
      ],
      "metadata": {
        "id": "zaDnXh5GKxtp"
      },
      "execution_count": 172,
      "outputs": []
    },
    {
      "cell_type": "code",
      "source": [
        "# computing perplexity with respect to the positive or negative test set \n",
        "def bigram_probabilities_testSet(cfd_bi_gram_train_pos, bi_grams_reviews_pos_test):\n",
        "  probabilities = []\n",
        "  # build a bigram model\n",
        "  bigram_modal = deriveBigram_model(cfd_bi_gram_train_pos)\n",
        "  for key, val in bi_grams_reviews_pos_test:\n",
        "    value = bigram_modal[key].get(val, 0)\n",
        "    if value == 0:\n",
        "      probabilities.append(0.00)\n",
        "    else:\n",
        "      probabilities.append(np.log(value))\n",
        "    #print(key, val, value)\n",
        "    # get the log of the probablilities\n",
        "  lnSum=np.sum(probabilities)\n",
        "  return lnSum"
      ],
      "metadata": {
        "id": "wf696SuweyYg"
      },
      "execution_count": 173,
      "outputs": []
    },
    {
      "cell_type": "code",
      "source": [
        "reviews_pos_test=[]\n",
        "cfd_bi_gram_train_pos=nltk.ConditionalFreqDist()\n",
        "bi_grams_reviews_pos_test = []\n",
        "\n",
        "def computePerplexity(list_L=reviews_pos_test, ngramType='Pos-Pos', cfd_type=cfd_bi_gram_train_pos,\\\n",
        "                      dataset_l = bi_grams_reviews_pos_test):\n",
        "  \"\"\"Compute the perplexity for with respect to the Pos and negative test data\"\"\"\n",
        "  n = len(list_L)\n",
        "  ln_sum=bigram_probabilities_testSet(cfd_type, dataset_l)\n",
        "  print('ln_sum for the {}: {}'.format(ngramType,ln_sum))\n",
        "  ans=np.exp(-ln_sum/n)\n",
        "  perplexity[ngramType] = ans"
      ],
      "metadata": {
        "id": "HJ-Yg2sYiznw"
      },
      "execution_count": 174,
      "outputs": []
    },
    {
      "cell_type": "code",
      "source": [
        "def deriveTrigram_modal(cfd_tri_gram_train_pos):\n",
        "  trigram_modal = collections.defaultdict(lambda: collections.defaultdict(lambda: 0))\n",
        "  for key, val in cfd_tri_gram_train_pos.items():\n",
        "    # collect all trigram frequencies\n",
        "    for k, v in val.items():\n",
        "      #print(key, k, v)\n",
        "      trigram_modal[key][k] = v\n",
        "  # populate the modal with probabilities\n",
        "  for x_0_x_1 in trigram_modal:\n",
        "    trigram_modal_cnt = float(sum(trigram_modal[x_0_x_1].values()))\n",
        "    #print(x_0_x_1, trigram_modal_cnt)\n",
        "    # derive the probabilities of the bigram \n",
        "    for x_2 in trigram_modal[x_0_x_1]:\n",
        "      trigram_modal[x_0_x_1][x_2]  = trigram_modal[x_0_x_1][x_2] / trigram_modal_cnt\n",
        "      #print(x_0_x_1, x_2, trigram_modal[x_0_x_1][x_2])\n",
        "  return trigram_modal"
      ],
      "metadata": {
        "id": "S3DZcFtgj5mC"
      },
      "execution_count": 175,
      "outputs": []
    },
    {
      "cell_type": "code",
      "source": [
        "def trigram_probabilities_testSet(cfd_tri_gram_train_pos, tri_grams_reviews_neg_test_L):\n",
        "  \"\"\"Function that return sum of the probabilities of the ngram model\"\"\"\n",
        "  probabilities = []\n",
        "  trigram_modal = deriveTrigram_modal(cfd_tri_gram_train_pos) # build the trigram modal\n",
        "  for key, val in tri_grams_reviews_neg_test_L:\n",
        "    value = trigram_modal[key].get(val, 0)\n",
        "    if value == 0:\n",
        "      probabilities.append(0.00)\n",
        "    else:\n",
        "      probabilities.append(np.log(value))\n",
        "    #print(key, val, value)\n",
        "  lnSum=np.sum(probabilities)\n",
        "  return lnSum\n"
      ],
      "metadata": {
        "id": "pkiHiO3sb_hE"
      },
      "execution_count": 176,
      "outputs": []
    },
    {
      "cell_type": "code",
      "source": [
        "def deriveQuadgram_modal(cfd_quad_gram_train_pos):\n",
        "  \"\"\"Function that returns the quadgram model with probabilities \"\"\"\n",
        "  quadgram_modal = collections.defaultdict(lambda: collections.defaultdict(lambda: 0))\n",
        "  for key, val in cfd_quad_gram_train_pos.items():\n",
        "    # collect all quadgram frequencies\n",
        "    for k, v in val.items():\n",
        "      #print(key, k, v)\n",
        "      quadgram_modal[key][k] = v\n",
        "  # populate the modal with probabilities\n",
        "  for x_0_x_1_x_2 in quadgram_modal:\n",
        "    quadgram_modal_cnt = float(sum(quadgram_modal[x_0_x_1_x_2].values()))\n",
        "    # derive the probabilities of the quadgram\n",
        "    for x_3 in quadgram_modal[x_0_x_1_x_2]:\n",
        "      quadgram_modal[x_0_x_1_x_2][x_3]  = quadgram_modal[x_0_x_1_x_2][x_3] / quadgram_modal_cnt\n",
        "      #print(x_0_x_1_x_2, x_3, quadgram_modal[x_0_x_1_x_2][x_3])\n",
        "  return quadgram_modal"
      ],
      "metadata": {
        "id": "s-_bPLiqrJhj"
      },
      "execution_count": 177,
      "outputs": []
    },
    {
      "cell_type": "code",
      "source": [
        "reviews_neg_test=[]\n",
        "tri_grams_reviews_neg_test_L=[]\n",
        "cfd_tri_gram_train_pos = nltk.ConditionalFreqDist()\n",
        "def computeTrigramPerplexity(list_L=reviews_neg_test, ngramType='Pos-Neg-trigram', cfd_type=cfd_tri_gram_train_pos,\\\n",
        "                      dataset_l = tri_grams_reviews_neg_test_L):\n",
        "  \"\"\"Compute the perplexity for with respect to the Pos and negative test data\"\"\"\n",
        "  n = len(list_L)\n",
        "  ln_sum=trigram_probabilities_testSet(cfd_type, dataset_l)\n",
        "  print('ln_sum for the {}: {}'.format(ngramType,ln_sum))\n",
        "  ans=np.exp(-ln_sum/n)\n",
        "  perplexity[ngramType] = ans"
      ],
      "metadata": {
        "id": "XdfcqEw42UPt"
      },
      "execution_count": 178,
      "outputs": []
    },
    {
      "cell_type": "code",
      "source": [
        "def quadgram_probabilities_testSet(cfd_quad_gram_train_pos, quad_grams_reviews_pos_test_L):\n",
        "  \"\"\"Function that return sum of the probabilities of the ngram model\"\"\"\n",
        "  probabilities = []\n",
        "  quadgram_modal = deriveQuadgram_modal(cfd_quad_gram_train_pos) # build the quadgram modal\n",
        "  for key, val in quad_grams_reviews_pos_test_L:\n",
        "    value = quadgram_modal[key].get(val, 0)\n",
        "    if value == 0:\n",
        "      probabilities.append(0.00)\n",
        "    else:\n",
        "      probabilities.append(np.log(value))\n",
        "    #print(key, val, value)\n",
        "  lnSum=np.sum(probabilities)\n",
        "  return lnSum"
      ],
      "metadata": {
        "id": "jTgwLcWWuNGJ"
      },
      "execution_count": 179,
      "outputs": []
    },
    {
      "cell_type": "code",
      "source": [
        "reviews_pos_test=[]\n",
        "quad_grams_reviews_pos_test_L=[]\n",
        "cfd_quad_gram_train_pos = nltk.ConditionalFreqDist()\n",
        "def computequadgramPerplexity(list_L=reviews_pos_test, ngramType='Pos-Pos-quadgram', cfd_type=cfd_quad_gram_train_pos,\\\n",
        "                      dataset_l = quad_grams_reviews_pos_test_L):\n",
        "  \"\"\"Compute the perplexity for with respect to the Pos and Pos test data\"\"\"\n",
        "  n = len(list_L)\n",
        "  ln_sum=quadgram_probabilities_testSet(cfd_quad_gram_train_pos, quad_grams_reviews_pos_test_L)\n",
        "  print('ln_sum for the {}: {}'.format(ngramType,ln_sum))\n",
        "  ans=np.exp(-ln_sum/n)\n",
        "  perplexity[ngramType] = ans"
      ],
      "metadata": {
        "id": "4KBfSBcwxZ4W"
      },
      "execution_count": 180,
      "outputs": []
    },
    {
      "cell_type": "code",
      "source": [
        "#uncomment this line to download the file\n",
        "!wget -c http://www.cs.cornell.edu/people/pabo/movie-review-data/review_polarity.tar.gz -P data/homework3"
      ],
      "metadata": {
        "id": "DXd8oLbfrK7A",
        "colab": {
          "base_uri": "https://localhost:8080/"
        },
        "outputId": "74cf66b3-11ed-418b-e251-cc2148e996d8"
      },
      "execution_count": 181,
      "outputs": [
        {
          "output_type": "stream",
          "name": "stdout",
          "text": [
            "--2023-05-05 02:17:36--  http://www.cs.cornell.edu/people/pabo/movie-review-data/review_polarity.tar.gz\n",
            "Resolving www.cs.cornell.edu (www.cs.cornell.edu)... 132.236.207.36\n",
            "Connecting to www.cs.cornell.edu (www.cs.cornell.edu)|132.236.207.36|:80... connected.\n",
            "HTTP request sent, awaiting response... 200 OK\n",
            "Length: 3127238 (3.0M) [application/x-gzip]\n",
            "Saving to: ‘data/homework3/review_polarity.tar.gz’\n",
            "\n",
            "review_polarity.tar 100%[===================>]   2.98M  1.86MB/s    in 1.6s    \n",
            "\n",
            "2023-05-05 02:17:39 (1.86 MB/s) - ‘data/homework3/review_polarity.tar.gz’ saved [3127238/3127238]\n",
            "\n"
          ]
        }
      ]
    },
    {
      "cell_type": "code",
      "source": [
        "# uncomment this code to extract the file\n",
        "#open the file\n",
        "file = tarfile.open(\"data/homework3/review_polarity.tar.gz\")\n",
        "\n",
        "# extract the file\n",
        "file.extractall('data/homework3')\n",
        "file.close()"
      ],
      "metadata": {
        "id": "nqBcPmz6ur9-"
      },
      "execution_count": 182,
      "outputs": []
    },
    {
      "cell_type": "code",
      "source": [
        "# uncomment the lines below to create directories\n",
        "%rm -rf data/homework3/txt_sentoken/train\n",
        "%rm -rf data/homework3/txt_sentoken/test\n",
        "%mkdir data/homework3/txt_sentoken/train\n",
        "%mkdir data/homework3/txt_sentoken/test"
      ],
      "metadata": {
        "id": "Pm19WCuKZrfR"
      },
      "execution_count": 183,
      "outputs": []
    },
    {
      "cell_type": "code",
      "source": [
        "len(os.listdir(directoryPath_test_o))"
      ],
      "metadata": {
        "colab": {
          "base_uri": "https://localhost:8080/"
        },
        "id": "1MMMan1ZSW7T",
        "outputId": "d7ecbf4b-398c-4f84-e9c2-65f081cd1aea"
      },
      "execution_count": 184,
      "outputs": [
        {
          "output_type": "execute_result",
          "data": {
            "text/plain": [
              "0"
            ]
          },
          "metadata": {},
          "execution_count": 184
        }
      ]
    },
    {
      "cell_type": "code",
      "source": [
        "len(os.listdir(directoryPath_train_o))"
      ],
      "metadata": {
        "colab": {
          "base_uri": "https://localhost:8080/"
        },
        "id": "_ryxnMutg4lv",
        "outputId": "9a26509c-e9a5-4840-ee0d-6b85810ed12d"
      },
      "execution_count": 185,
      "outputs": [
        {
          "output_type": "execute_result",
          "data": {
            "text/plain": [
              "0"
            ]
          },
          "metadata": {},
          "execution_count": 185
        }
      ]
    },
    {
      "cell_type": "code",
      "source": [
        "directoryFiles_pos = os.listdir(directoryPath_pos)\n",
        "directoryFiles_neg = os.listdir(directoryPath_neg)\n",
        "print(\"The number of files in the pos directory are %d\" %len(directoryFiles_pos))\n",
        "print(\"The number of files in the neg directory are %d\" %len(directoryFiles_neg))"
      ],
      "metadata": {
        "colab": {
          "base_uri": "https://localhost:8080/"
        },
        "id": "1oXUoygd-NHB",
        "outputId": "43040db4-a925-4702-bf2a-a2a71211987c"
      },
      "execution_count": 186,
      "outputs": [
        {
          "output_type": "stream",
          "name": "stdout",
          "text": [
            "The number of files in the pos directory are 1000\n",
            "The number of files in the neg directory are 1000\n"
          ]
        }
      ]
    },
    {
      "cell_type": "code",
      "source": [
        "# initialize empty lists \n",
        "train_groundTruth_L = []\n",
        "test_groundTruth_L = []"
      ],
      "metadata": {
        "id": "_o9bgbkTcUQN"
      },
      "execution_count": 187,
      "outputs": []
    },
    {
      "cell_type": "code",
      "source": [
        "deriveTrainAndTest(directoryFiles_pos, wordPattern_pos,directoryPath_pos,directoryPath_train_o, 1, train_groundTruth_L)\n",
        "deriveTrainAndTest(directoryFiles_neg, wordPattern_pos, directoryPath_neg, directoryPath_train_o, 0, train_groundTruth_L)\n",
        "deriveTrainAndTest(directoryFiles_pos, wordPattern_neg, directoryPath_pos, directoryPath_test_o, 1, test_groundTruth_L)\n",
        "deriveTrainAndTest(directoryFiles_neg, wordPattern_neg, directoryPath_neg, directoryPath_test_o, 0, test_groundTruth_L)"
      ],
      "metadata": {
        "id": "A290EzQk-0zY"
      },
      "execution_count": 188,
      "outputs": []
    },
    {
      "cell_type": "code",
      "source": [
        "len(train_groundTruth_L)"
      ],
      "metadata": {
        "colab": {
          "base_uri": "https://localhost:8080/"
        },
        "id": "H7cMwou2-1aK",
        "outputId": "aee42018-ae46-4790-fbfb-91feb4e52cc6"
      },
      "execution_count": 189,
      "outputs": [
        {
          "output_type": "execute_result",
          "data": {
            "text/plain": [
              "1600"
            ]
          },
          "metadata": {},
          "execution_count": 189
        }
      ]
    },
    {
      "cell_type": "code",
      "source": [
        "len(test_groundTruth_L)"
      ],
      "metadata": {
        "colab": {
          "base_uri": "https://localhost:8080/"
        },
        "id": "v8XXMZiIW__K",
        "outputId": "2973502b-29c7-416a-e480-cd12f6ede250"
      },
      "execution_count": 190,
      "outputs": [
        {
          "output_type": "execute_result",
          "data": {
            "text/plain": [
              "400"
            ]
          },
          "metadata": {},
          "execution_count": 190
        }
      ]
    },
    {
      "cell_type": "code",
      "source": [
        "# write the groundTruth_training list to the file\n",
        "dumpListToFile(train_groundTruth_L, 'train_groundTruth_L')"
      ],
      "metadata": {
        "id": "4KV1rS0PLtVV"
      },
      "execution_count": 191,
      "outputs": []
    },
    {
      "cell_type": "code",
      "source": [
        "# write the groundTruth_test list to the file\n",
        "dumpListToFile(test_groundTruth_L, 'test_groundTruth_L')"
      ],
      "metadata": {
        "id": "RavY4LFuMCND"
      },
      "execution_count": 192,
      "outputs": []
    },
    {
      "cell_type": "code",
      "source": [
        "directoryFiles_train = os.listdir(directoryPath_train_o)\n",
        "directoryFiles_test = os.listdir(directoryPath_test_o)\n",
        "print(\"There are %d files in the train data set.\" %len(directoryFiles_train))\n",
        "print(\"There are %d files in the test data set.\" %len(directoryFiles_test))\n"
      ],
      "metadata": {
        "colab": {
          "base_uri": "https://localhost:8080/"
        },
        "id": "bUIfp3APD_5m",
        "outputId": "97a84232-e4a5-4fe2-ab93-dd70fd623065"
      },
      "execution_count": 193,
      "outputs": [
        {
          "output_type": "stream",
          "name": "stdout",
          "text": [
            "There are 1600 files in the train data set.\n",
            "There are 400 files in the test data set.\n"
          ]
        }
      ]
    },
    {
      "cell_type": "markdown",
      "source": [
        "Get a list of files from the training data set"
      ],
      "metadata": {
        "id": "MzF8kIxVP-tU"
      }
    },
    {
      "cell_type": "code",
      "source": [
        "train_filepath='data/homework3/txt_sentoken/train/'\n",
        "train_L_Files  = readDirectoryFiles(directoryFiles_train, train_filepath)\n",
        "print(\"%d files of reviews read from the training data set.\" %len(train_L_Files))\n",
        "\n",
        "test_filepath='data/homework3/txt_sentoken/test/'\n",
        "test_L_Files  = readDirectoryFiles(directoryFiles_test, test_filepath)\n",
        "print(\"%d files of reviews read from the test data set.\" %len(test_L_Files))\n"
      ],
      "metadata": {
        "id": "BjXXBCuHQHYP",
        "colab": {
          "base_uri": "https://localhost:8080/"
        },
        "outputId": "2b2ca944-3725-40d2-aad2-0d85a85d3462"
      },
      "execution_count": 194,
      "outputs": [
        {
          "output_type": "stream",
          "name": "stdout",
          "text": [
            "1600 files of reviews read from the training data set.\n",
            "400 files of reviews read from the test data set.\n"
          ]
        }
      ]
    },
    {
      "cell_type": "markdown",
      "source": [
        "# Derive the training data frame with all its reviews and labels"
      ],
      "metadata": {
        "id": "dDEGF84RGT54"
      }
    },
    {
      "cell_type": "code",
      "source": [
        "reviews_train_df = pd.DataFrame(data=list(zip(train_L_Files, train_groundTruth_L)), columns=['reviews', 'labels'])"
      ],
      "metadata": {
        "id": "z7Ar-6AMDpoP"
      },
      "execution_count": 195,
      "outputs": []
    },
    {
      "cell_type": "code",
      "source": [
        "reviews_train_df.tail()"
      ],
      "metadata": {
        "colab": {
          "base_uri": "https://localhost:8080/",
          "height": 206
        },
        "id": "LEtF4pbIEdDx",
        "outputId": "bc44d4d9-936e-4ab0-8257-e71a23a10813"
      },
      "execution_count": 196,
      "outputs": [
        {
          "output_type": "execute_result",
          "data": {
            "text/plain": [
              "                                                reviews  labels\n",
              "1595  the central focus of michael winterbottom's \" ...       0\n",
              "1596  after the average mouse hunt , the silly small...       0\n",
              "1597  i have seen several ( but not that many ) wood...       0\n",
              "1598  fritz lang's first american film since leaving...       0\n",
              "1599  veteran actor clint eastwood has never looked ...       0"
            ],
            "text/html": [
              "\n",
              "  <div id=\"df-cb6a5c2b-77ca-4c6c-bd38-389a0597e391\">\n",
              "    <div class=\"colab-df-container\">\n",
              "      <div>\n",
              "<style scoped>\n",
              "    .dataframe tbody tr th:only-of-type {\n",
              "        vertical-align: middle;\n",
              "    }\n",
              "\n",
              "    .dataframe tbody tr th {\n",
              "        vertical-align: top;\n",
              "    }\n",
              "\n",
              "    .dataframe thead th {\n",
              "        text-align: right;\n",
              "    }\n",
              "</style>\n",
              "<table border=\"1\" class=\"dataframe\">\n",
              "  <thead>\n",
              "    <tr style=\"text-align: right;\">\n",
              "      <th></th>\n",
              "      <th>reviews</th>\n",
              "      <th>labels</th>\n",
              "    </tr>\n",
              "  </thead>\n",
              "  <tbody>\n",
              "    <tr>\n",
              "      <th>1595</th>\n",
              "      <td>the central focus of michael winterbottom's \" ...</td>\n",
              "      <td>0</td>\n",
              "    </tr>\n",
              "    <tr>\n",
              "      <th>1596</th>\n",
              "      <td>after the average mouse hunt , the silly small...</td>\n",
              "      <td>0</td>\n",
              "    </tr>\n",
              "    <tr>\n",
              "      <th>1597</th>\n",
              "      <td>i have seen several ( but not that many ) wood...</td>\n",
              "      <td>0</td>\n",
              "    </tr>\n",
              "    <tr>\n",
              "      <th>1598</th>\n",
              "      <td>fritz lang's first american film since leaving...</td>\n",
              "      <td>0</td>\n",
              "    </tr>\n",
              "    <tr>\n",
              "      <th>1599</th>\n",
              "      <td>veteran actor clint eastwood has never looked ...</td>\n",
              "      <td>0</td>\n",
              "    </tr>\n",
              "  </tbody>\n",
              "</table>\n",
              "</div>\n",
              "      <button class=\"colab-df-convert\" onclick=\"convertToInteractive('df-cb6a5c2b-77ca-4c6c-bd38-389a0597e391')\"\n",
              "              title=\"Convert this dataframe to an interactive table.\"\n",
              "              style=\"display:none;\">\n",
              "        \n",
              "  <svg xmlns=\"http://www.w3.org/2000/svg\" height=\"24px\"viewBox=\"0 0 24 24\"\n",
              "       width=\"24px\">\n",
              "    <path d=\"M0 0h24v24H0V0z\" fill=\"none\"/>\n",
              "    <path d=\"M18.56 5.44l.94 2.06.94-2.06 2.06-.94-2.06-.94-.94-2.06-.94 2.06-2.06.94zm-11 1L8.5 8.5l.94-2.06 2.06-.94-2.06-.94L8.5 2.5l-.94 2.06-2.06.94zm10 10l.94 2.06.94-2.06 2.06-.94-2.06-.94-.94-2.06-.94 2.06-2.06.94z\"/><path d=\"M17.41 7.96l-1.37-1.37c-.4-.4-.92-.59-1.43-.59-.52 0-1.04.2-1.43.59L10.3 9.45l-7.72 7.72c-.78.78-.78 2.05 0 2.83L4 21.41c.39.39.9.59 1.41.59.51 0 1.02-.2 1.41-.59l7.78-7.78 2.81-2.81c.8-.78.8-2.07 0-2.86zM5.41 20L4 18.59l7.72-7.72 1.47 1.35L5.41 20z\"/>\n",
              "  </svg>\n",
              "      </button>\n",
              "      \n",
              "  <style>\n",
              "    .colab-df-container {\n",
              "      display:flex;\n",
              "      flex-wrap:wrap;\n",
              "      gap: 12px;\n",
              "    }\n",
              "\n",
              "    .colab-df-convert {\n",
              "      background-color: #E8F0FE;\n",
              "      border: none;\n",
              "      border-radius: 50%;\n",
              "      cursor: pointer;\n",
              "      display: none;\n",
              "      fill: #1967D2;\n",
              "      height: 32px;\n",
              "      padding: 0 0 0 0;\n",
              "      width: 32px;\n",
              "    }\n",
              "\n",
              "    .colab-df-convert:hover {\n",
              "      background-color: #E2EBFA;\n",
              "      box-shadow: 0px 1px 2px rgba(60, 64, 67, 0.3), 0px 1px 3px 1px rgba(60, 64, 67, 0.15);\n",
              "      fill: #174EA6;\n",
              "    }\n",
              "\n",
              "    [theme=dark] .colab-df-convert {\n",
              "      background-color: #3B4455;\n",
              "      fill: #D2E3FC;\n",
              "    }\n",
              "\n",
              "    [theme=dark] .colab-df-convert:hover {\n",
              "      background-color: #434B5C;\n",
              "      box-shadow: 0px 1px 3px 1px rgba(0, 0, 0, 0.15);\n",
              "      filter: drop-shadow(0px 1px 2px rgba(0, 0, 0, 0.3));\n",
              "      fill: #FFFFFF;\n",
              "    }\n",
              "  </style>\n",
              "\n",
              "      <script>\n",
              "        const buttonEl =\n",
              "          document.querySelector('#df-cb6a5c2b-77ca-4c6c-bd38-389a0597e391 button.colab-df-convert');\n",
              "        buttonEl.style.display =\n",
              "          google.colab.kernel.accessAllowed ? 'block' : 'none';\n",
              "\n",
              "        async function convertToInteractive(key) {\n",
              "          const element = document.querySelector('#df-cb6a5c2b-77ca-4c6c-bd38-389a0597e391');\n",
              "          const dataTable =\n",
              "            await google.colab.kernel.invokeFunction('convertToInteractive',\n",
              "                                                     [key], {});\n",
              "          if (!dataTable) return;\n",
              "\n",
              "          const docLinkHtml = 'Like what you see? Visit the ' +\n",
              "            '<a target=\"_blank\" href=https://colab.research.google.com/notebooks/data_table.ipynb>data table notebook</a>'\n",
              "            + ' to learn more about interactive tables.';\n",
              "          element.innerHTML = '';\n",
              "          dataTable['output_type'] = 'display_data';\n",
              "          await google.colab.output.renderOutput(dataTable, element);\n",
              "          const docLink = document.createElement('div');\n",
              "          docLink.innerHTML = docLinkHtml;\n",
              "          element.appendChild(docLink);\n",
              "        }\n",
              "      </script>\n",
              "    </div>\n",
              "  </div>\n",
              "  "
            ]
          },
          "metadata": {},
          "execution_count": 196
        }
      ]
    },
    {
      "cell_type": "code",
      "source": [
        "reviews_train_df.groupby(['labels'])['labels'].count()"
      ],
      "metadata": {
        "colab": {
          "base_uri": "https://localhost:8080/"
        },
        "id": "SeroXFRiFuTc",
        "outputId": "4d406b56-3493-49e9-e41a-d5b852c00a1d"
      },
      "execution_count": 197,
      "outputs": [
        {
          "output_type": "execute_result",
          "data": {
            "text/plain": [
              "labels\n",
              "0    800\n",
              "1    800\n",
              "Name: labels, dtype: int64"
            ]
          },
          "metadata": {},
          "execution_count": 197
        }
      ]
    },
    {
      "cell_type": "markdown",
      "source": [
        "# Derive the test data frame with all its reviews and labels"
      ],
      "metadata": {
        "id": "RB3yyaGjGgKR"
      }
    },
    {
      "cell_type": "code",
      "source": [
        "reviews_test_df = pd.DataFrame(data=list(zip(test_L_Files, test_groundTruth_L)), columns=['reviews', 'labels'])"
      ],
      "metadata": {
        "id": "MbQfV54GGo5G"
      },
      "execution_count": 198,
      "outputs": []
    },
    {
      "cell_type": "code",
      "source": [
        "reviews_test_df.head()"
      ],
      "metadata": {
        "colab": {
          "base_uri": "https://localhost:8080/",
          "height": 206
        },
        "id": "X9nhuhA4HHHO",
        "outputId": "95004174-e45e-4ec8-fa24-b7e65d08b846"
      },
      "execution_count": 199,
      "outputs": [
        {
          "output_type": "execute_result",
          "data": {
            "text/plain": [
              "                                             reviews  labels\n",
              "0  salaries of hollywood top actors are getting o...       1\n",
              "1  movies like six days , seven nights make me ma...       1\n",
              "2  if anything , \" stigmata \" should be taken as ...       1\n",
              "3  john boorman's \" zardoz \" is a goofy cinematic...       1\n",
              "4  the kids in the hall are an acquired taste . \\...       1"
            ],
            "text/html": [
              "\n",
              "  <div id=\"df-eb8d80a4-e3c7-4a28-bdd3-bd9e55a45a08\">\n",
              "    <div class=\"colab-df-container\">\n",
              "      <div>\n",
              "<style scoped>\n",
              "    .dataframe tbody tr th:only-of-type {\n",
              "        vertical-align: middle;\n",
              "    }\n",
              "\n",
              "    .dataframe tbody tr th {\n",
              "        vertical-align: top;\n",
              "    }\n",
              "\n",
              "    .dataframe thead th {\n",
              "        text-align: right;\n",
              "    }\n",
              "</style>\n",
              "<table border=\"1\" class=\"dataframe\">\n",
              "  <thead>\n",
              "    <tr style=\"text-align: right;\">\n",
              "      <th></th>\n",
              "      <th>reviews</th>\n",
              "      <th>labels</th>\n",
              "    </tr>\n",
              "  </thead>\n",
              "  <tbody>\n",
              "    <tr>\n",
              "      <th>0</th>\n",
              "      <td>salaries of hollywood top actors are getting o...</td>\n",
              "      <td>1</td>\n",
              "    </tr>\n",
              "    <tr>\n",
              "      <th>1</th>\n",
              "      <td>movies like six days , seven nights make me ma...</td>\n",
              "      <td>1</td>\n",
              "    </tr>\n",
              "    <tr>\n",
              "      <th>2</th>\n",
              "      <td>if anything , \" stigmata \" should be taken as ...</td>\n",
              "      <td>1</td>\n",
              "    </tr>\n",
              "    <tr>\n",
              "      <th>3</th>\n",
              "      <td>john boorman's \" zardoz \" is a goofy cinematic...</td>\n",
              "      <td>1</td>\n",
              "    </tr>\n",
              "    <tr>\n",
              "      <th>4</th>\n",
              "      <td>the kids in the hall are an acquired taste . \\...</td>\n",
              "      <td>1</td>\n",
              "    </tr>\n",
              "  </tbody>\n",
              "</table>\n",
              "</div>\n",
              "      <button class=\"colab-df-convert\" onclick=\"convertToInteractive('df-eb8d80a4-e3c7-4a28-bdd3-bd9e55a45a08')\"\n",
              "              title=\"Convert this dataframe to an interactive table.\"\n",
              "              style=\"display:none;\">\n",
              "        \n",
              "  <svg xmlns=\"http://www.w3.org/2000/svg\" height=\"24px\"viewBox=\"0 0 24 24\"\n",
              "       width=\"24px\">\n",
              "    <path d=\"M0 0h24v24H0V0z\" fill=\"none\"/>\n",
              "    <path d=\"M18.56 5.44l.94 2.06.94-2.06 2.06-.94-2.06-.94-.94-2.06-.94 2.06-2.06.94zm-11 1L8.5 8.5l.94-2.06 2.06-.94-2.06-.94L8.5 2.5l-.94 2.06-2.06.94zm10 10l.94 2.06.94-2.06 2.06-.94-2.06-.94-.94-2.06-.94 2.06-2.06.94z\"/><path d=\"M17.41 7.96l-1.37-1.37c-.4-.4-.92-.59-1.43-.59-.52 0-1.04.2-1.43.59L10.3 9.45l-7.72 7.72c-.78.78-.78 2.05 0 2.83L4 21.41c.39.39.9.59 1.41.59.51 0 1.02-.2 1.41-.59l7.78-7.78 2.81-2.81c.8-.78.8-2.07 0-2.86zM5.41 20L4 18.59l7.72-7.72 1.47 1.35L5.41 20z\"/>\n",
              "  </svg>\n",
              "      </button>\n",
              "      \n",
              "  <style>\n",
              "    .colab-df-container {\n",
              "      display:flex;\n",
              "      flex-wrap:wrap;\n",
              "      gap: 12px;\n",
              "    }\n",
              "\n",
              "    .colab-df-convert {\n",
              "      background-color: #E8F0FE;\n",
              "      border: none;\n",
              "      border-radius: 50%;\n",
              "      cursor: pointer;\n",
              "      display: none;\n",
              "      fill: #1967D2;\n",
              "      height: 32px;\n",
              "      padding: 0 0 0 0;\n",
              "      width: 32px;\n",
              "    }\n",
              "\n",
              "    .colab-df-convert:hover {\n",
              "      background-color: #E2EBFA;\n",
              "      box-shadow: 0px 1px 2px rgba(60, 64, 67, 0.3), 0px 1px 3px 1px rgba(60, 64, 67, 0.15);\n",
              "      fill: #174EA6;\n",
              "    }\n",
              "\n",
              "    [theme=dark] .colab-df-convert {\n",
              "      background-color: #3B4455;\n",
              "      fill: #D2E3FC;\n",
              "    }\n",
              "\n",
              "    [theme=dark] .colab-df-convert:hover {\n",
              "      background-color: #434B5C;\n",
              "      box-shadow: 0px 1px 3px 1px rgba(0, 0, 0, 0.15);\n",
              "      filter: drop-shadow(0px 1px 2px rgba(0, 0, 0, 0.3));\n",
              "      fill: #FFFFFF;\n",
              "    }\n",
              "  </style>\n",
              "\n",
              "      <script>\n",
              "        const buttonEl =\n",
              "          document.querySelector('#df-eb8d80a4-e3c7-4a28-bdd3-bd9e55a45a08 button.colab-df-convert');\n",
              "        buttonEl.style.display =\n",
              "          google.colab.kernel.accessAllowed ? 'block' : 'none';\n",
              "\n",
              "        async function convertToInteractive(key) {\n",
              "          const element = document.querySelector('#df-eb8d80a4-e3c7-4a28-bdd3-bd9e55a45a08');\n",
              "          const dataTable =\n",
              "            await google.colab.kernel.invokeFunction('convertToInteractive',\n",
              "                                                     [key], {});\n",
              "          if (!dataTable) return;\n",
              "\n",
              "          const docLinkHtml = 'Like what you see? Visit the ' +\n",
              "            '<a target=\"_blank\" href=https://colab.research.google.com/notebooks/data_table.ipynb>data table notebook</a>'\n",
              "            + ' to learn more about interactive tables.';\n",
              "          element.innerHTML = '';\n",
              "          dataTable['output_type'] = 'display_data';\n",
              "          await google.colab.output.renderOutput(dataTable, element);\n",
              "          const docLink = document.createElement('div');\n",
              "          docLink.innerHTML = docLinkHtml;\n",
              "          element.appendChild(docLink);\n",
              "        }\n",
              "      </script>\n",
              "    </div>\n",
              "  </div>\n",
              "  "
            ]
          },
          "metadata": {},
          "execution_count": 199
        }
      ]
    },
    {
      "cell_type": "code",
      "source": [
        "reviews_test_df.groupby(['labels'])['labels'].count()"
      ],
      "metadata": {
        "colab": {
          "base_uri": "https://localhost:8080/"
        },
        "id": "aFxxjNE_H227",
        "outputId": "a6ebb7a0-2bac-4aa1-ea82-0fb06cdf3267"
      },
      "execution_count": 200,
      "outputs": [
        {
          "output_type": "execute_result",
          "data": {
            "text/plain": [
              "labels\n",
              "0    200\n",
              "1    200\n",
              "Name: labels, dtype: int64"
            ]
          },
          "metadata": {},
          "execution_count": 200
        }
      ]
    },
    {
      "cell_type": "markdown",
      "source": [
        "## Separate the training reviews into positive and negative"
      ],
      "metadata": {
        "id": "0SvK1H_qLQyh"
      }
    },
    {
      "cell_type": "code",
      "source": [
        "# positive training reviews\n",
        "df_train_reviews_pos = segmentDataIntoPosOrNeg(reviews_train_df, 1)\n",
        "df_train_reviews_pos.groupby(['labels'])['labels'].count()"
      ],
      "metadata": {
        "colab": {
          "base_uri": "https://localhost:8080/"
        },
        "id": "d5U2_meFOXA9",
        "outputId": "3a55b536-c9af-4dff-8276-1f6f846da6b9"
      },
      "execution_count": 201,
      "outputs": [
        {
          "output_type": "execute_result",
          "data": {
            "text/plain": [
              "labels\n",
              "1    800\n",
              "Name: labels, dtype: int64"
            ]
          },
          "metadata": {},
          "execution_count": 201
        }
      ]
    },
    {
      "cell_type": "code",
      "source": [
        "# negative training reviews\n",
        "df_train_reviews_neg = segmentDataIntoPosOrNeg(reviews_train_df, 0)\n",
        "df_train_reviews_neg.groupby(['labels'])['labels'].count()"
      ],
      "metadata": {
        "colab": {
          "base_uri": "https://localhost:8080/"
        },
        "id": "RjRbT-bQOn2Q",
        "outputId": "61dada23-f0cb-4ff1-b6eb-3f263a5d7875"
      },
      "execution_count": 202,
      "outputs": [
        {
          "output_type": "execute_result",
          "data": {
            "text/plain": [
              "labels\n",
              "0    800\n",
              "Name: labels, dtype: int64"
            ]
          },
          "metadata": {},
          "execution_count": 202
        }
      ]
    },
    {
      "cell_type": "markdown",
      "source": [
        "## Separate the test reviews into positive and negative."
      ],
      "metadata": {
        "id": "RncaVS98Qo_4"
      }
    },
    {
      "cell_type": "code",
      "source": [
        "# positive test reviews\n",
        "df_test_reviews_pos = segmentDataIntoPosOrNeg(reviews_test_df, 1)\n",
        "df_test_reviews_pos.groupby(['labels'])['labels'].count()"
      ],
      "metadata": {
        "colab": {
          "base_uri": "https://localhost:8080/"
        },
        "id": "2ymwj9VAQ0ZU",
        "outputId": "58f2c7a7-1268-46c3-f583-93421dd55956"
      },
      "execution_count": 203,
      "outputs": [
        {
          "output_type": "execute_result",
          "data": {
            "text/plain": [
              "labels\n",
              "1    200\n",
              "Name: labels, dtype: int64"
            ]
          },
          "metadata": {},
          "execution_count": 203
        }
      ]
    },
    {
      "cell_type": "code",
      "source": [
        "# negative test reviews\n",
        "df_test_reviews_neg = segmentDataIntoPosOrNeg(reviews_test_df, 0)\n",
        "df_test_reviews_neg.groupby(['labels'])['labels'].count()"
      ],
      "metadata": {
        "colab": {
          "base_uri": "https://localhost:8080/"
        },
        "id": "iIGk2wp8Ra-C",
        "outputId": "822a0694-3c08-46d5-f384-b2aed32db364"
      },
      "execution_count": 204,
      "outputs": [
        {
          "output_type": "execute_result",
          "data": {
            "text/plain": [
              "labels\n",
              "0    200\n",
              "Name: labels, dtype: int64"
            ]
          },
          "metadata": {},
          "execution_count": 204
        }
      ]
    },
    {
      "cell_type": "markdown",
      "source": [
        "# Derive long lists of concatenated sentences"
      ],
      "metadata": {
        "id": "khZR6QSqUryy"
      }
    },
    {
      "cell_type": "code",
      "source": [
        "# positive train reviews\n",
        "df_train_reviews_pos.shape"
      ],
      "metadata": {
        "colab": {
          "base_uri": "https://localhost:8080/"
        },
        "id": "9wHHynfo0Jnm",
        "outputId": "4278a718-79e4-4913-ba1d-efc89bd55c9a"
      },
      "execution_count": 205,
      "outputs": [
        {
          "output_type": "execute_result",
          "data": {
            "text/plain": [
              "(800, 2)"
            ]
          },
          "metadata": {},
          "execution_count": 205
        }
      ]
    },
    {
      "cell_type": "code",
      "source": [
        "# invoke a function that returns a chained list of all sentences after combining all reviews together\n",
        "reviews_pos_train = process_reviews_concatenated_sent(df_train_reviews_pos)"
      ],
      "metadata": {
        "id": "dovL_uyWa18w"
      },
      "execution_count": 206,
      "outputs": []
    },
    {
      "cell_type": "code",
      "source": [
        "# negative train reviews\n",
        "df_train_reviews_neg.shape"
      ],
      "metadata": {
        "colab": {
          "base_uri": "https://localhost:8080/"
        },
        "id": "D9rBekTKqg7B",
        "outputId": "6cde9b91-7b02-4ba5-a436-a2f03ed9a719"
      },
      "execution_count": 207,
      "outputs": [
        {
          "output_type": "execute_result",
          "data": {
            "text/plain": [
              "(800, 2)"
            ]
          },
          "metadata": {},
          "execution_count": 207
        }
      ]
    },
    {
      "cell_type": "code",
      "source": [
        "# invoke a function that returns a chained list of all sentences after combining all reviews together\n",
        "reviews_neg_train = process_reviews_concatenated_sent(df_train_reviews_neg)"
      ],
      "metadata": {
        "id": "Qvjlt-G-2NV1"
      },
      "execution_count": 208,
      "outputs": []
    },
    {
      "cell_type": "code",
      "source": [
        "# postive test reviews\n",
        "df_test_reviews_pos.shape"
      ],
      "metadata": {
        "colab": {
          "base_uri": "https://localhost:8080/"
        },
        "id": "l0LTVhSO2odF",
        "outputId": "d7830fb0-adea-496e-90c1-fe069e9ed5f1"
      },
      "execution_count": 209,
      "outputs": [
        {
          "output_type": "execute_result",
          "data": {
            "text/plain": [
              "(200, 2)"
            ]
          },
          "metadata": {},
          "execution_count": 209
        }
      ]
    },
    {
      "cell_type": "code",
      "source": [
        "# invoke a function that returns a chained list of all sentences after combining all reviews together\n",
        "reviews_pos_test = process_reviews_concatenated_sent(df_test_reviews_pos)"
      ],
      "metadata": {
        "id": "4XpyMDgF258f"
      },
      "execution_count": 210,
      "outputs": []
    },
    {
      "cell_type": "code",
      "source": [
        "# negative test reviews\n",
        "df_test_reviews_neg.shape"
      ],
      "metadata": {
        "colab": {
          "base_uri": "https://localhost:8080/"
        },
        "id": "gqrp_hGH3YdV",
        "outputId": "40b9769b-cb65-47b0-c158-30e90fa71ee7"
      },
      "execution_count": 211,
      "outputs": [
        {
          "output_type": "execute_result",
          "data": {
            "text/plain": [
              "(200, 2)"
            ]
          },
          "metadata": {},
          "execution_count": 211
        }
      ]
    },
    {
      "cell_type": "code",
      "source": [
        "# invoke a function that returns a chained list of all sentences after combining all reviews together\n",
        "reviews_neg_test = process_reviews_concatenated_sent(df_test_reviews_neg)"
      ],
      "metadata": {
        "id": "EIk845cB3pNc"
      },
      "execution_count": 212,
      "outputs": []
    },
    {
      "cell_type": "markdown",
      "source": [
        "# Build bigram, trigram and quadgram models."
      ],
      "metadata": {
        "id": "wmJuq8QzO32B"
      }
    },
    {
      "cell_type": "markdown",
      "source": [
        "## training sets"
      ],
      "metadata": {
        "id": "x12lpxoBRVJK"
      }
    },
    {
      "cell_type": "markdown",
      "source": [
        "###bigrams"
      ],
      "metadata": {
        "id": "xla4dE78tXqU"
      }
    },
    {
      "cell_type": "code",
      "source": [
        "# creating positive training bigrams using nltk.util.ngrams\n",
        "bi_grams_reviews_pos_train = ngrams(reviews_pos_train, 2)"
      ],
      "metadata": {
        "id": "O3w83-zORau9"
      },
      "execution_count": 213,
      "outputs": []
    },
    {
      "cell_type": "code",
      "source": [
        "# look at the sample contents of the positive training bi gram\n",
        "view_sample_items_bi_grams(bi_grams_reviews_pos_train)"
      ],
      "metadata": {
        "colab": {
          "base_uri": "https://localhost:8080/"
        },
        "id": "Au58eVu5sFGA",
        "outputId": "40464c6b-55d5-4efb-f5b6-164392f85a4f"
      },
      "execution_count": 214,
      "outputs": [
        {
          "output_type": "stream",
          "name": "stdout",
          "text": [
            "[2 - 1] <<s>, disaster>\n",
            "[2 - 2] <disaster, films>\n",
            "[2 - 3] <films, have>\n",
            "[2 - 4] <have, a>\n",
            "[2 - 5] <a, tendency>\n"
          ]
        }
      ]
    },
    {
      "cell_type": "code",
      "source": [
        "# creating negative training bigrams using nltk.util.ngrams\n",
        "bi_grams_reviews_neg_train = ngrams(reviews_neg_train, 2)"
      ],
      "metadata": {
        "id": "Xv4meIqepsRF"
      },
      "execution_count": 215,
      "outputs": []
    },
    {
      "cell_type": "code",
      "source": [
        "# look at the sample contents of the negative training bi gram\n",
        "view_sample_items_bi_grams(bi_grams_reviews_neg_train)"
      ],
      "metadata": {
        "colab": {
          "base_uri": "https://localhost:8080/"
        },
        "id": "If8HuEHessYy",
        "outputId": "c737b998-e334-4bab-c732-3a3d5c6241a3"
      },
      "execution_count": 216,
      "outputs": [
        {
          "output_type": "stream",
          "name": "stdout",
          "text": [
            "[2 - 1] <<s>, it>\n",
            "[2 - 2] <it, used>\n",
            "[2 - 3] <used, to>\n",
            "[2 - 4] <to, be>\n",
            "[2 - 5] <be, that>\n"
          ]
        }
      ]
    },
    {
      "cell_type": "markdown",
      "source": [
        "### trigrams"
      ],
      "metadata": {
        "id": "iaGdOWj8thKH"
      }
    },
    {
      "cell_type": "code",
      "source": [
        "# create the positive training trigram\n",
        "tri_grams_reviews_pos_train = ngrams(reviews_pos_train, 3)"
      ],
      "metadata": {
        "id": "QiHVV1jRtkiC"
      },
      "execution_count": 217,
      "outputs": []
    },
    {
      "cell_type": "code",
      "source": [
        "# look at the sample contents of the positive training trigram\n",
        "view_sample_items_tri_grams(tri_grams_reviews_pos_train)"
      ],
      "metadata": {
        "colab": {
          "base_uri": "https://localhost:8080/"
        },
        "id": "1oQc9tzEgO6E",
        "outputId": "72a41bd1-beca-4aff-8d6a-a018af9630bc"
      },
      "execution_count": 218,
      "outputs": [
        {
          "output_type": "stream",
          "name": "stdout",
          "text": [
            "[3 - 0] (('<s>', 'disaster'), 'films')\n",
            "[3 - 1] (('disaster', 'films'), 'have')\n",
            "[3 - 2] (('films', 'have'), 'a')\n",
            "[3 - 3] (('have', 'a'), 'tendency')\n",
            "[3 - 4] (('a', 'tendency'), 'to')\n",
            "[3 - 5] (('tendency', 'to'), 'be')\n"
          ]
        }
      ]
    },
    {
      "cell_type": "code",
      "source": [
        "# create the negative training trigram \n",
        "tri_grams_reviews_neg_train = ngrams(reviews_neg_train, 3)"
      ],
      "metadata": {
        "id": "mHbzbfg5hxtL"
      },
      "execution_count": 219,
      "outputs": []
    },
    {
      "cell_type": "code",
      "source": [
        "# look at the sample contents of the negative training trigram\n",
        "view_sample_items_tri_grams(tri_grams_reviews_neg_train)"
      ],
      "metadata": {
        "colab": {
          "base_uri": "https://localhost:8080/"
        },
        "id": "HP3cwufXiGsZ",
        "outputId": "40c3c6d8-4e33-4073-c17a-87988d91c77c"
      },
      "execution_count": 220,
      "outputs": [
        {
          "output_type": "stream",
          "name": "stdout",
          "text": [
            "[3 - 0] (('<s>', 'it'), 'used')\n",
            "[3 - 1] (('it', 'used'), 'to')\n",
            "[3 - 2] (('used', 'to'), 'be')\n",
            "[3 - 3] (('to', 'be'), 'that')\n",
            "[3 - 4] (('be', 'that'), 'not')\n",
            "[3 - 5] (('that', 'not'), 'just')\n"
          ]
        }
      ]
    },
    {
      "cell_type": "markdown",
      "source": [
        "###quadgrams"
      ],
      "metadata": {
        "id": "9mizVSwchkcy"
      }
    },
    {
      "cell_type": "code",
      "source": [
        "# create the positive training quadgram\n",
        "quad_grams_reviews_pos_train = ngrams(reviews_pos_train, 4)"
      ],
      "metadata": {
        "id": "Uxr7Fgriiiwf"
      },
      "execution_count": 221,
      "outputs": []
    },
    {
      "cell_type": "code",
      "source": [
        "# look at the sample contents of the positive training quadgram\n",
        "view_sample_items_quad_grams(quad_grams_reviews_pos_train)"
      ],
      "metadata": {
        "colab": {
          "base_uri": "https://localhost:8080/"
        },
        "id": "N6-O4ZmKme_w",
        "outputId": "33034bce-5db1-41aa-adea-4096e7872d9c"
      },
      "execution_count": 222,
      "outputs": [
        {
          "output_type": "stream",
          "name": "stdout",
          "text": [
            "[4 - 0] (('<s>', 'disaster', 'films'), 'have')\n",
            "[4 - 1] (('disaster', 'films', 'have'), 'a')\n",
            "[4 - 2] (('films', 'have', 'a'), 'tendency')\n",
            "[4 - 3] (('have', 'a', 'tendency'), 'to')\n",
            "[4 - 4] (('a', 'tendency', 'to'), 'be')\n",
            "[4 - 5] (('tendency', 'to', 'be'), 'very')\n"
          ]
        }
      ]
    },
    {
      "cell_type": "code",
      "source": [
        "# create the negative training quadgram\n",
        "quad_grams_reviews_neg_train = ngrams(reviews_neg_train, 4)"
      ],
      "metadata": {
        "id": "6LA54zoay4DQ"
      },
      "execution_count": 223,
      "outputs": []
    },
    {
      "cell_type": "code",
      "source": [
        "# look at the sample contents of the negative training quadgram\n",
        "view_sample_items_quad_grams(quad_grams_reviews_neg_train)"
      ],
      "metadata": {
        "colab": {
          "base_uri": "https://localhost:8080/"
        },
        "id": "rGl4ahJ4zBpl",
        "outputId": "d0ea6285-b9e1-4049-9912-071ee4cb75c9"
      },
      "execution_count": 224,
      "outputs": [
        {
          "output_type": "stream",
          "name": "stdout",
          "text": [
            "[4 - 0] (('<s>', 'it', 'used'), 'to')\n",
            "[4 - 1] (('it', 'used', 'to'), 'be')\n",
            "[4 - 2] (('used', 'to', 'be'), 'that')\n",
            "[4 - 3] (('to', 'be', 'that'), 'not')\n",
            "[4 - 4] (('be', 'that', 'not'), 'just')\n",
            "[4 - 5] (('that', 'not', 'just'), 'anyone')\n"
          ]
        }
      ]
    },
    {
      "cell_type": "markdown",
      "source": [
        "## testing sets"
      ],
      "metadata": {
        "id": "fW-ljmJVtD7o"
      }
    },
    {
      "cell_type": "markdown",
      "source": [
        "###bigrams"
      ],
      "metadata": {
        "id": "eNz4OssUrm3B"
      }
    },
    {
      "cell_type": "code",
      "source": [
        "# creating positive training bigrams using nltk.util.ngrams\n",
        "bi_grams_reviews_pos_test = ngrams(reviews_pos_test, 2)"
      ],
      "metadata": {
        "id": "nWq-49TrtJtW"
      },
      "execution_count": 225,
      "outputs": []
    },
    {
      "cell_type": "code",
      "source": [
        "# look at the sample contents of the positive test bigram\n",
        "view_sample_items_bi_grams(bi_grams_reviews_pos_test)"
      ],
      "metadata": {
        "colab": {
          "base_uri": "https://localhost:8080/"
        },
        "id": "_yhJ-yHosZ-B",
        "outputId": "d94c3f40-96a4-48e2-c46a-a8adf0ad9e36"
      },
      "execution_count": 226,
      "outputs": [
        {
          "output_type": "stream",
          "name": "stdout",
          "text": [
            "[2 - 1] <<s>, salaries>\n",
            "[2 - 2] <salaries, of>\n",
            "[2 - 3] <of, hollywood>\n",
            "[2 - 4] <hollywood, top>\n",
            "[2 - 5] <top, actors>\n"
          ]
        }
      ]
    },
    {
      "cell_type": "code",
      "source": [
        "# creating negative test bigrams\n",
        "bi_grams_reviews_neg_test = ngrams(reviews_neg_test, 2)"
      ],
      "metadata": {
        "id": "_IgpRt5xspAQ"
      },
      "execution_count": 227,
      "outputs": []
    },
    {
      "cell_type": "code",
      "source": [
        "# look at the sample contents of the negative test bigram\n",
        "view_sample_items_bi_grams(bi_grams_reviews_neg_test)"
      ],
      "metadata": {
        "colab": {
          "base_uri": "https://localhost:8080/"
        },
        "id": "7xSEoS3ys-16",
        "outputId": "dde50d29-208b-4c8f-80fc-9b4c789aba4c"
      },
      "execution_count": 228,
      "outputs": [
        {
          "output_type": "stream",
          "name": "stdout",
          "text": [
            "[2 - 1] <<s>, those>\n",
            "[2 - 2] <those, of>\n",
            "[2 - 3] <of, you>\n",
            "[2 - 4] <you, who>\n",
            "[2 - 5] <who, frequently>\n"
          ]
        }
      ]
    },
    {
      "cell_type": "markdown",
      "source": [
        "###trigrams"
      ],
      "metadata": {
        "id": "1JDHsLcptNI-"
      }
    },
    {
      "cell_type": "code",
      "source": [
        "# create the positive training trigram\n",
        "tri_grams_reviews_pos_test = ngrams(reviews_pos_test, 3)"
      ],
      "metadata": {
        "id": "-KIBmnBCtRRk"
      },
      "execution_count": 229,
      "outputs": []
    },
    {
      "cell_type": "code",
      "source": [
        "# look at the sample contents of the positive test trigram\n",
        "view_sample_items_tri_grams(tri_grams_reviews_pos_test)"
      ],
      "metadata": {
        "colab": {
          "base_uri": "https://localhost:8080/"
        },
        "id": "S-KQUpciwibs",
        "outputId": "9ff7872a-c4b9-448d-ea22-b2099a59a6a2"
      },
      "execution_count": 230,
      "outputs": [
        {
          "output_type": "stream",
          "name": "stdout",
          "text": [
            "[3 - 0] (('<s>', 'salaries'), 'of')\n",
            "[3 - 1] (('salaries', 'of'), 'hollywood')\n",
            "[3 - 2] (('of', 'hollywood'), 'top')\n",
            "[3 - 3] (('hollywood', 'top'), 'actors')\n",
            "[3 - 4] (('top', 'actors'), 'are')\n",
            "[3 - 5] (('actors', 'are'), 'getting')\n"
          ]
        }
      ]
    },
    {
      "cell_type": "code",
      "source": [
        "# create the negative test trigram \n",
        "tri_grams_reviews_neg_test = ngrams(reviews_neg_test, 3)"
      ],
      "metadata": {
        "id": "YhaH_kQvxaep"
      },
      "execution_count": 231,
      "outputs": []
    },
    {
      "cell_type": "code",
      "source": [
        "# look at the sample contents of the negative test trigram\n",
        "view_sample_items_tri_grams(tri_grams_reviews_neg_test)"
      ],
      "metadata": {
        "colab": {
          "base_uri": "https://localhost:8080/"
        },
        "id": "C6U5SlrvxpDe",
        "outputId": "ce0ccacf-8fb3-4aac-e07b-b906fffbf2b7"
      },
      "execution_count": 232,
      "outputs": [
        {
          "output_type": "stream",
          "name": "stdout",
          "text": [
            "[3 - 0] (('<s>', 'those'), 'of')\n",
            "[3 - 1] (('those', 'of'), 'you')\n",
            "[3 - 2] (('of', 'you'), 'who')\n",
            "[3 - 3] (('you', 'who'), 'frequently')\n",
            "[3 - 4] (('who', 'frequently'), 'read')\n",
            "[3 - 5] (('frequently', 'read'), 'my')\n"
          ]
        }
      ]
    },
    {
      "cell_type": "markdown",
      "source": [
        "###quadgram"
      ],
      "metadata": {
        "id": "2IclwC4Xx6jf"
      }
    },
    {
      "cell_type": "code",
      "source": [
        "# create the positive test quadgram\n",
        "quad_grams_reviews_pos_test = ngrams(reviews_pos_test, 4)"
      ],
      "metadata": {
        "id": "4-d9irRXx_ac"
      },
      "execution_count": 233,
      "outputs": []
    },
    {
      "cell_type": "code",
      "source": [
        "# look at the sample contents of the positive test quadgram\n",
        "view_sample_items_quad_grams(quad_grams_reviews_pos_test)"
      ],
      "metadata": {
        "colab": {
          "base_uri": "https://localhost:8080/"
        },
        "id": "-WjBT4DCyIc1",
        "outputId": "39e0a0cb-2e73-4416-c9e6-b9b5a54f34fe"
      },
      "execution_count": 234,
      "outputs": [
        {
          "output_type": "stream",
          "name": "stdout",
          "text": [
            "[4 - 0] (('<s>', 'salaries', 'of'), 'hollywood')\n",
            "[4 - 1] (('salaries', 'of', 'hollywood'), 'top')\n",
            "[4 - 2] (('of', 'hollywood', 'top'), 'actors')\n",
            "[4 - 3] (('hollywood', 'top', 'actors'), 'are')\n",
            "[4 - 4] (('top', 'actors', 'are'), 'getting')\n",
            "[4 - 5] (('actors', 'are', 'getting'), 'obscenely')\n"
          ]
        }
      ]
    },
    {
      "cell_type": "code",
      "source": [
        "# create the negative test quadgram\n",
        "quad_grams_reviews_neg_test = ngrams(reviews_neg_test, 4)"
      ],
      "metadata": {
        "id": "HxucFAR0ydFr"
      },
      "execution_count": 235,
      "outputs": []
    },
    {
      "cell_type": "code",
      "source": [
        "# look at the sample contents of the negative test quadgram\n",
        "view_sample_items_quad_grams(quad_grams_reviews_neg_test)"
      ],
      "metadata": {
        "colab": {
          "base_uri": "https://localhost:8080/"
        },
        "id": "LcW9XBGFynmV",
        "outputId": "f7b46955-296a-4284-bb73-a3094faf72c1"
      },
      "execution_count": 236,
      "outputs": [
        {
          "output_type": "stream",
          "name": "stdout",
          "text": [
            "[4 - 0] (('<s>', 'those', 'of'), 'you')\n",
            "[4 - 1] (('those', 'of', 'you'), 'who')\n",
            "[4 - 2] (('of', 'you', 'who'), 'frequently')\n",
            "[4 - 3] (('you', 'who', 'frequently'), 'read')\n",
            "[4 - 4] (('who', 'frequently', 'read'), 'my')\n",
            "[4 - 5] (('frequently', 'read', 'my'), 'reviews')\n"
          ]
        }
      ]
    },
    {
      "cell_type": "markdown",
      "source": [
        "# Creating bigram modal for the positive and negative training data."
      ],
      "metadata": {
        "id": "6OwK_-jV7UuK"
      }
    },
    {
      "cell_type": "code",
      "source": [
        "bi_grams_reviews_pos_train_L = list(bi_grams_reviews_pos_train)\n",
        "#print('{}'.format(bi_grams_reviews_pos_train_L[:10]))\n",
        "cfd_bi_gram_train_pos = nltk.ConditionalFreqDist(bi_grams_reviews_pos_train_L)"
      ],
      "metadata": {
        "id": "gtTjAlMq7Wfv"
      },
      "execution_count": 237,
      "outputs": []
    },
    {
      "cell_type": "code",
      "source": [
        "perplexity = {}"
      ],
      "metadata": {
        "id": "xRBuMdsInWDK"
      },
      "execution_count": 238,
      "outputs": []
    },
    {
      "cell_type": "code",
      "source": [
        "# using the ngram model (bigram model) from the positive training  to compute the \n",
        "# perplexity with respect to the positive test data\n",
        "computePerplexity(reviews_pos_test, 'Pos-Pos-bigram', cfd_bi_gram_train_pos,\\\n",
        "                      bi_grams_reviews_pos_test)"
      ],
      "metadata": {
        "colab": {
          "base_uri": "https://localhost:8080/"
        },
        "id": "h0uqr-Ekn5X2",
        "outputId": "d2df0193-b917-44fe-ac0c-ec4e17e58a68"
      },
      "execution_count": 239,
      "outputs": [
        {
          "output_type": "stream",
          "name": "stdout",
          "text": [
            "ln_sum for the Pos-Pos-bigram: -404583.9624048889\n"
          ]
        }
      ]
    },
    {
      "cell_type": "code",
      "source": [
        "# using the ngram model (bigram model) from the positive training  to compute the \n",
        "# perplexity with respect to the negative test data\n",
        "computePerplexity(reviews_neg_test, 'Pos-Neg-bigram', cfd_bi_gram_train_pos,\\\n",
        "                      bi_grams_reviews_neg_test)"
      ],
      "metadata": {
        "colab": {
          "base_uri": "https://localhost:8080/"
        },
        "id": "AB_zn5C3vDoC",
        "outputId": "1e926592-b4cc-413b-cf44-3a81f98fab10"
      },
      "execution_count": 240,
      "outputs": [
        {
          "output_type": "stream",
          "name": "stdout",
          "text": [
            "ln_sum for the Pos-Neg-bigram: -443193.4894182319\n"
          ]
        }
      ]
    },
    {
      "cell_type": "code",
      "source": [
        "bi_grams_reviews_neg_train_L = list(bi_grams_reviews_neg_train)\n",
        "print('{}'.format(bi_grams_reviews_neg_train_L[:10]))\n",
        "cfd_bi_gram_train_neg = nltk.ConditionalFreqDist(bi_grams_reviews_neg_train_L)"
      ],
      "metadata": {
        "id": "OdMoEMmmgbwN",
        "colab": {
          "base_uri": "https://localhost:8080/"
        },
        "outputId": "6312761a-486f-4715-a9a5-cd2ddd972267"
      },
      "execution_count": 241,
      "outputs": [
        {
          "output_type": "stream",
          "name": "stdout",
          "text": [
            "[('not', 'just'), ('just', 'anyone'), ('anyone', 'could'), ('could', 'become'), ('become', 'a'), ('a', 'vampire'), ('vampire', '.'), ('.', '</s>'), ('</s>', '<s>'), ('<s>', 'usually')]\n"
          ]
        }
      ]
    },
    {
      "cell_type": "code",
      "source": [
        "# using the ngram model (bigram model) from the negative training data to compute the \n",
        "# perplexity with respect to the positive test data\n",
        "computePerplexity(reviews_pos_test, 'Neg-Pos-bigram', cfd_bi_gram_train_neg,\\\n",
        "                      bi_grams_reviews_pos_test)"
      ],
      "metadata": {
        "colab": {
          "base_uri": "https://localhost:8080/"
        },
        "id": "r7Ec-UB5VzKn",
        "outputId": "9dccd196-83d5-4bcd-873c-c01724860c12"
      },
      "execution_count": 242,
      "outputs": [
        {
          "output_type": "stream",
          "name": "stdout",
          "text": [
            "ln_sum for the Neg-Pos-bigram: 0.0\n"
          ]
        }
      ]
    },
    {
      "cell_type": "code",
      "source": [
        "# using the ngram model (bigram model) from the negative training data to compute the \n",
        "# perplexity with respect to the negative test data\n",
        "computePerplexity(reviews_neg_test, 'Neg-Neg-bigram', cfd_bi_gram_train_neg,\\\n",
        "                      bi_grams_reviews_neg_test)"
      ],
      "metadata": {
        "colab": {
          "base_uri": "https://localhost:8080/"
        },
        "id": "Iz9TWsAMZxF3",
        "outputId": "ffefa51d-b963-4ba2-a9cd-48c27098dd70"
      },
      "execution_count": 243,
      "outputs": [
        {
          "output_type": "stream",
          "name": "stdout",
          "text": [
            "ln_sum for the Neg-Neg-bigram: 0.0\n"
          ]
        }
      ]
    },
    {
      "cell_type": "markdown",
      "source": [
        "# Creating trigram modal for the positive and negative training data."
      ],
      "metadata": {
        "id": "NoPiPwDvdFxN"
      }
    },
    {
      "cell_type": "code",
      "source": [
        "tri_grams_reviews_pos_train = ngrams(reviews_pos_train, 3)\n",
        "tri_grams_reviews_pos_train_L = [((x_0, x_1), x_2) for (x_0, x_1, x_2) in tri_grams_reviews_pos_train]"
      ],
      "metadata": {
        "id": "dWAXrBc7eFcb"
      },
      "execution_count": 244,
      "outputs": []
    },
    {
      "cell_type": "code",
      "source": [
        "# derive the cfd\n",
        "print('{}'.format(tri_grams_reviews_pos_train_L[:10]))\n",
        "cfd_tri_gram_train_pos = nltk.ConditionalFreqDist(tri_grams_reviews_pos_train_L)"
      ],
      "metadata": {
        "colab": {
          "base_uri": "https://localhost:8080/"
        },
        "id": "Ppaz9Us9dEDA",
        "outputId": "c6bd5e97-aca5-4a6f-befe-7f2143c69ffa"
      },
      "execution_count": 245,
      "outputs": [
        {
          "output_type": "stream",
          "name": "stdout",
          "text": [
            "[(('<s>', 'disaster'), 'films'), (('disaster', 'films'), 'have'), (('films', 'have'), 'a'), (('have', 'a'), 'tendency'), (('a', 'tendency'), 'to'), (('tendency', 'to'), 'be'), (('to', 'be'), 'very'), (('be', 'very'), 'formulated'), (('very', 'formulated'), 'and'), (('formulated', 'and'), 'very')]\n"
          ]
        }
      ]
    },
    {
      "cell_type": "code",
      "source": [
        "tri_grams_reviews_neg_test = ngrams(reviews_neg_test, 3)\n",
        "tri_grams_reviews_neg_test_L = [((x_0, x_1), x_2) for (x_0, x_1, x_2) in tri_grams_reviews_neg_test]\n",
        "#tri_grams_reviews_neg_test_L"
      ],
      "metadata": {
        "id": "6lQGCMb0h2lW"
      },
      "execution_count": 246,
      "outputs": []
    },
    {
      "cell_type": "code",
      "source": [
        "# using the ngram model (trigram model) from the positive training data to compute the \n",
        "# perplexity with respect to the negative test data\n",
        "computeTrigramPerplexity(reviews_neg_test, 'Pos-Neg-trigram', cfd_tri_gram_train_pos, tri_grams_reviews_neg_test_L)"
      ],
      "metadata": {
        "colab": {
          "base_uri": "https://localhost:8080/"
        },
        "id": "plvTO_ls3Wwu",
        "outputId": "6120556c-8c8c-4095-f45f-1d0c96532f64"
      },
      "execution_count": 247,
      "outputs": [
        {
          "output_type": "stream",
          "name": "stdout",
          "text": [
            "ln_sum for the Pos-Neg-trigram: -137328.2638245119\n"
          ]
        }
      ]
    },
    {
      "cell_type": "code",
      "source": [
        "tri_grams_reviews_pos_test = ngrams(reviews_pos_test, 3)\n",
        "tri_grams_reviews_pos_test_L = [((x_0, x_1), x_2) for (x_0, x_1, x_2) in tri_grams_reviews_pos_test]"
      ],
      "metadata": {
        "id": "Mx3NwZfc5yzK"
      },
      "execution_count": 248,
      "outputs": []
    },
    {
      "cell_type": "code",
      "source": [
        "# using the ngram model (trigram model) from the positive training data to compute the \n",
        "# perplexity with respect to the positive test data\n",
        "computeTrigramPerplexity(reviews_pos_test, 'Pos-Pos-trigram', cfd_tri_gram_train_pos, tri_grams_reviews_pos_test_L)"
      ],
      "metadata": {
        "colab": {
          "base_uri": "https://localhost:8080/"
        },
        "id": "ZUivMq4h6gUo",
        "outputId": "31e7590c-df6b-4577-aba8-ddae7094ea51"
      },
      "execution_count": 249,
      "outputs": [
        {
          "output_type": "stream",
          "name": "stdout",
          "text": [
            "ln_sum for the Pos-Pos-trigram: -130291.84696847101\n"
          ]
        }
      ]
    },
    {
      "cell_type": "code",
      "source": [
        "tri_grams_reviews_neg_train = ngrams(reviews_neg_train, 3)\n",
        "tri_grams_reviews_neg_train_L = [((x_0, x_1), x_2) for (x_0, x_1, x_2) in tri_grams_reviews_neg_train]"
      ],
      "metadata": {
        "id": "oGfFF0Qv74ue"
      },
      "execution_count": 250,
      "outputs": []
    },
    {
      "cell_type": "code",
      "source": [
        "print('{}'.format(tri_grams_reviews_neg_train_L[:10]))\n",
        "cfd_tri_gram_train_neg = nltk.ConditionalFreqDist(tri_grams_reviews_neg_train_L)"
      ],
      "metadata": {
        "colab": {
          "base_uri": "https://localhost:8080/"
        },
        "id": "KFJiMZHR7uqI",
        "outputId": "08b06f5a-71c9-46a4-f5b9-2417a6fc4678"
      },
      "execution_count": 251,
      "outputs": [
        {
          "output_type": "stream",
          "name": "stdout",
          "text": [
            "[(('<s>', 'it'), 'used'), (('it', 'used'), 'to'), (('used', 'to'), 'be'), (('to', 'be'), 'that'), (('be', 'that'), 'not'), (('that', 'not'), 'just'), (('not', 'just'), 'anyone'), (('just', 'anyone'), 'could'), (('anyone', 'could'), 'become'), (('could', 'become'), 'a')]\n"
          ]
        }
      ]
    },
    {
      "cell_type": "code",
      "source": [
        "# using the ngram model (trigram model) from the negative training data to compute the \n",
        "# perplexity with respect to the positive test data\n",
        "computeTrigramPerplexity(reviews_pos_test, 'Neg-Pos-trigram', cfd_tri_gram_train_neg, tri_grams_reviews_pos_test_L)"
      ],
      "metadata": {
        "colab": {
          "base_uri": "https://localhost:8080/"
        },
        "id": "y8-cmVcQ8p-s",
        "outputId": "9609f19c-b22e-4875-b891-5873903e7650"
      },
      "execution_count": 252,
      "outputs": [
        {
          "output_type": "stream",
          "name": "stdout",
          "text": [
            "ln_sum for the Neg-Pos-trigram: -129625.94404289001\n"
          ]
        }
      ]
    },
    {
      "cell_type": "code",
      "source": [
        "# using the ngram model (trigram model) from the negative training data to compute the \n",
        "# perplexity with respect to the negative test data\n",
        "computeTrigramPerplexity(reviews_neg_test, 'Neg-Neg-trigram', cfd_tri_gram_train_neg, tri_grams_reviews_neg_test_L)"
      ],
      "metadata": {
        "colab": {
          "base_uri": "https://localhost:8080/"
        },
        "id": "Yb_OE7x_9Fq2",
        "outputId": "5e43f5bf-67f6-4697-c224-c9c2c73d333e"
      },
      "execution_count": 253,
      "outputs": [
        {
          "output_type": "stream",
          "name": "stdout",
          "text": [
            "ln_sum for the Neg-Neg-trigram: -147083.7609005958\n"
          ]
        }
      ]
    },
    {
      "cell_type": "markdown",
      "source": [
        "# Creating a quadgram modal for the positive and negative training data."
      ],
      "metadata": {
        "id": "dx2be8nejGiC"
      }
    },
    {
      "cell_type": "code",
      "source": [
        "# create a positive quadgram\n",
        "quad_grams_reviews_pos_train = ngrams(reviews_pos_train, 4)\n",
        "quad_grams_reviews_pos_train_L = [((x_0, x_1, x_2), x_3)  for (x_0, x_1, x_2, x_3) in quad_grams_reviews_pos_train]"
      ],
      "metadata": {
        "id": "iclUR2s-koCH"
      },
      "execution_count": 254,
      "outputs": []
    },
    {
      "cell_type": "code",
      "source": [
        "print('{}'.format(quad_grams_reviews_pos_train_L[:10]))\n",
        "cfd_quad_gram_train_pos = nltk.ConditionalFreqDist(quad_grams_reviews_pos_train_L)"
      ],
      "metadata": {
        "colab": {
          "base_uri": "https://localhost:8080/"
        },
        "id": "Wy616TWTn5O3",
        "outputId": "56a55d34-d0c1-406f-a9fc-c98df9775409"
      },
      "execution_count": 255,
      "outputs": [
        {
          "output_type": "stream",
          "name": "stdout",
          "text": [
            "[(('<s>', 'disaster', 'films'), 'have'), (('disaster', 'films', 'have'), 'a'), (('films', 'have', 'a'), 'tendency'), (('have', 'a', 'tendency'), 'to'), (('a', 'tendency', 'to'), 'be'), (('tendency', 'to', 'be'), 'very'), (('to', 'be', 'very'), 'formulated'), (('be', 'very', 'formulated'), 'and'), (('very', 'formulated', 'and'), 'very'), (('formulated', 'and', 'very'), 'cliched')]\n"
          ]
        }
      ]
    },
    {
      "cell_type": "code",
      "source": [
        "quad_grams_reviews_pos_test = ngrams(reviews_pos_test, 4)\n",
        "quad_grams_reviews_pos_test_L = [((x_0, x_1, x_2), x_3)  for (x_0, x_1, x_2, x_3) in quad_grams_reviews_pos_test]"
      ],
      "metadata": {
        "id": "m9O0IUByvQD3"
      },
      "execution_count": 256,
      "outputs": []
    },
    {
      "cell_type": "code",
      "source": [
        "# using the ngram model (quadgram model) from the positive training data to compute the \n",
        "# perplexity with respect to the positive test data\n",
        "computequadgramPerplexity(list_L=reviews_pos_test, ngramType='Pos-Pos-quadgram', cfd_type=cfd_quad_gram_train_pos,\\\n",
        "                      dataset_l = quad_grams_reviews_pos_test_L)"
      ],
      "metadata": {
        "colab": {
          "base_uri": "https://localhost:8080/"
        },
        "id": "tGxQUSgNynob",
        "outputId": "4be27331-f85c-4061-c36b-f1f30be2b52d"
      },
      "execution_count": 257,
      "outputs": [
        {
          "output_type": "stream",
          "name": "stdout",
          "text": [
            "ln_sum for the Pos-Pos-quadgram: -57466.04761625849\n"
          ]
        }
      ]
    },
    {
      "cell_type": "code",
      "source": [
        "quad_grams_reviews_neg_test = ngrams(reviews_neg_test, 4)\n",
        "quad_grams_reviews_neg_test_L = [((x_0, x_1, x_2), x_3)  for (x_0, x_1, x_2, x_3) in quad_grams_reviews_neg_test]"
      ],
      "metadata": {
        "id": "mzG08N48ztYc"
      },
      "execution_count": 258,
      "outputs": []
    },
    {
      "cell_type": "code",
      "source": [
        "# using the ngram model (quadgram model) from the positive training data to compute the \n",
        "# perplexity with respect to the negative test data\n",
        "computequadgramPerplexity(reviews_neg_test, 'Pos-Neg-quadgram', cfd_quad_gram_train_pos, quad_grams_reviews_neg_test_L)"
      ],
      "metadata": {
        "colab": {
          "base_uri": "https://localhost:8080/"
        },
        "id": "ZnuTJpPrz6aA",
        "outputId": "dff06bd4-ab97-4578-c6ad-aa23d9200697"
      },
      "execution_count": 259,
      "outputs": [
        {
          "output_type": "stream",
          "name": "stdout",
          "text": [
            "ln_sum for the Pos-Neg-quadgram: -57466.04761625849\n"
          ]
        }
      ]
    },
    {
      "cell_type": "code",
      "source": [
        "quad_grams_reviews_neg_train = ngrams(reviews_neg_train, 4)\n",
        "quad_grams_reviews_neg_train_L = [((x_0, x_1, x_2), x_3)  for (x_0, x_1, x_2, x_3) in quad_grams_reviews_neg_train]"
      ],
      "metadata": {
        "id": "gpfqHcic0gD9"
      },
      "execution_count": 260,
      "outputs": []
    },
    {
      "cell_type": "code",
      "source": [
        "print('{}'.format(quad_grams_reviews_neg_train_L[:10]))\n",
        "cfd_quad_gram_train_neg = nltk.ConditionalFreqDist(quad_grams_reviews_neg_train_L)"
      ],
      "metadata": {
        "colab": {
          "base_uri": "https://localhost:8080/"
        },
        "id": "uISNxmzc04af",
        "outputId": "e5cf8fb2-f47a-4d3f-c2f4-292ae3cc4945"
      },
      "execution_count": 261,
      "outputs": [
        {
          "output_type": "stream",
          "name": "stdout",
          "text": [
            "[(('<s>', 'it', 'used'), 'to'), (('it', 'used', 'to'), 'be'), (('used', 'to', 'be'), 'that'), (('to', 'be', 'that'), 'not'), (('be', 'that', 'not'), 'just'), (('that', 'not', 'just'), 'anyone'), (('not', 'just', 'anyone'), 'could'), (('just', 'anyone', 'could'), 'become'), (('anyone', 'could', 'become'), 'a'), (('could', 'become', 'a'), 'vampire')]\n"
          ]
        }
      ]
    },
    {
      "cell_type": "code",
      "source": [
        "# using the ngram model (quadgram model) from the negative training data to compute the \n",
        "# perplexity with respect to the negative test data\n",
        "computequadgramPerplexity(reviews_neg_test, 'Neg-Neg-quadgram', cfd_quad_gram_train_neg, quad_grams_reviews_neg_test_L)"
      ],
      "metadata": {
        "colab": {
          "base_uri": "https://localhost:8080/"
        },
        "id": "2Rl4IfGp3tEy",
        "outputId": "c7408646-feb6-4afa-d009-2b2fe37a3e65"
      },
      "execution_count": 262,
      "outputs": [
        {
          "output_type": "stream",
          "name": "stdout",
          "text": [
            "ln_sum for the Neg-Neg-quadgram: -57466.04761625849\n"
          ]
        }
      ]
    },
    {
      "cell_type": "code",
      "source": [
        "# using the ngram model (quadgram model) from the negative training data to compute the \n",
        "# perplexity with respect to the negative test data\n",
        "computequadgramPerplexity(reviews_pos_test, 'Neg-Pos-quadgram', cfd_quad_gram_train_neg, quad_grams_reviews_pos_test_L)"
      ],
      "metadata": {
        "colab": {
          "base_uri": "https://localhost:8080/"
        },
        "id": "rl8n1Kqm4Kek",
        "outputId": "97b29635-782a-41ff-b4fd-fda539d1df1b"
      },
      "execution_count": 263,
      "outputs": [
        {
          "output_type": "stream",
          "name": "stdout",
          "text": [
            "ln_sum for the Neg-Pos-quadgram: -57466.04761625849\n"
          ]
        }
      ]
    },
    {
      "cell_type": "code",
      "source": [
        "# create a data frame with the Perplexity results\n",
        "df_perplexity = pd.DataFrame(perplexity.items(), columns=['n_gram-Type', 'perplexity'])#pd.DataFrame.from_dict(perplexity, orient='index')\n",
        "df_perplexity.head(12)"
      ],
      "metadata": {
        "colab": {
          "base_uri": "https://localhost:8080/",
          "height": 426
        },
        "id": "y9MOFBB0_sZv",
        "outputId": "68d75b23-002b-45c1-b463-30135187dd22"
      },
      "execution_count": 264,
      "outputs": [
        {
          "output_type": "execute_result",
          "data": {
            "text/plain": [
              "         n_gram-Type  perplexity\n",
              "0     Pos-Pos-bigram   13.682853\n",
              "1     Pos-Neg-bigram   13.006448\n",
              "2     Neg-Pos-bigram    1.000000\n",
              "3     Neg-Neg-bigram    1.000000\n",
              "4    Pos-Neg-trigram    2.214288\n",
              "5    Pos-Pos-trigram    2.322166\n",
              "6    Neg-Pos-trigram    2.312189\n",
              "7    Neg-Neg-trigram    2.342927\n",
              "8   Pos-Pos-quadgram    1.450039\n",
              "9   Pos-Neg-quadgram    1.394652\n",
              "10  Neg-Neg-quadgram    1.394652\n",
              "11  Neg-Pos-quadgram    1.450039"
            ],
            "text/html": [
              "\n",
              "  <div id=\"df-d5bc7eef-1876-4e54-b217-20566015c6e0\">\n",
              "    <div class=\"colab-df-container\">\n",
              "      <div>\n",
              "<style scoped>\n",
              "    .dataframe tbody tr th:only-of-type {\n",
              "        vertical-align: middle;\n",
              "    }\n",
              "\n",
              "    .dataframe tbody tr th {\n",
              "        vertical-align: top;\n",
              "    }\n",
              "\n",
              "    .dataframe thead th {\n",
              "        text-align: right;\n",
              "    }\n",
              "</style>\n",
              "<table border=\"1\" class=\"dataframe\">\n",
              "  <thead>\n",
              "    <tr style=\"text-align: right;\">\n",
              "      <th></th>\n",
              "      <th>n_gram-Type</th>\n",
              "      <th>perplexity</th>\n",
              "    </tr>\n",
              "  </thead>\n",
              "  <tbody>\n",
              "    <tr>\n",
              "      <th>0</th>\n",
              "      <td>Pos-Pos-bigram</td>\n",
              "      <td>13.682853</td>\n",
              "    </tr>\n",
              "    <tr>\n",
              "      <th>1</th>\n",
              "      <td>Pos-Neg-bigram</td>\n",
              "      <td>13.006448</td>\n",
              "    </tr>\n",
              "    <tr>\n",
              "      <th>2</th>\n",
              "      <td>Neg-Pos-bigram</td>\n",
              "      <td>1.000000</td>\n",
              "    </tr>\n",
              "    <tr>\n",
              "      <th>3</th>\n",
              "      <td>Neg-Neg-bigram</td>\n",
              "      <td>1.000000</td>\n",
              "    </tr>\n",
              "    <tr>\n",
              "      <th>4</th>\n",
              "      <td>Pos-Neg-trigram</td>\n",
              "      <td>2.214288</td>\n",
              "    </tr>\n",
              "    <tr>\n",
              "      <th>5</th>\n",
              "      <td>Pos-Pos-trigram</td>\n",
              "      <td>2.322166</td>\n",
              "    </tr>\n",
              "    <tr>\n",
              "      <th>6</th>\n",
              "      <td>Neg-Pos-trigram</td>\n",
              "      <td>2.312189</td>\n",
              "    </tr>\n",
              "    <tr>\n",
              "      <th>7</th>\n",
              "      <td>Neg-Neg-trigram</td>\n",
              "      <td>2.342927</td>\n",
              "    </tr>\n",
              "    <tr>\n",
              "      <th>8</th>\n",
              "      <td>Pos-Pos-quadgram</td>\n",
              "      <td>1.450039</td>\n",
              "    </tr>\n",
              "    <tr>\n",
              "      <th>9</th>\n",
              "      <td>Pos-Neg-quadgram</td>\n",
              "      <td>1.394652</td>\n",
              "    </tr>\n",
              "    <tr>\n",
              "      <th>10</th>\n",
              "      <td>Neg-Neg-quadgram</td>\n",
              "      <td>1.394652</td>\n",
              "    </tr>\n",
              "    <tr>\n",
              "      <th>11</th>\n",
              "      <td>Neg-Pos-quadgram</td>\n",
              "      <td>1.450039</td>\n",
              "    </tr>\n",
              "  </tbody>\n",
              "</table>\n",
              "</div>\n",
              "      <button class=\"colab-df-convert\" onclick=\"convertToInteractive('df-d5bc7eef-1876-4e54-b217-20566015c6e0')\"\n",
              "              title=\"Convert this dataframe to an interactive table.\"\n",
              "              style=\"display:none;\">\n",
              "        \n",
              "  <svg xmlns=\"http://www.w3.org/2000/svg\" height=\"24px\"viewBox=\"0 0 24 24\"\n",
              "       width=\"24px\">\n",
              "    <path d=\"M0 0h24v24H0V0z\" fill=\"none\"/>\n",
              "    <path d=\"M18.56 5.44l.94 2.06.94-2.06 2.06-.94-2.06-.94-.94-2.06-.94 2.06-2.06.94zm-11 1L8.5 8.5l.94-2.06 2.06-.94-2.06-.94L8.5 2.5l-.94 2.06-2.06.94zm10 10l.94 2.06.94-2.06 2.06-.94-2.06-.94-.94-2.06-.94 2.06-2.06.94z\"/><path d=\"M17.41 7.96l-1.37-1.37c-.4-.4-.92-.59-1.43-.59-.52 0-1.04.2-1.43.59L10.3 9.45l-7.72 7.72c-.78.78-.78 2.05 0 2.83L4 21.41c.39.39.9.59 1.41.59.51 0 1.02-.2 1.41-.59l7.78-7.78 2.81-2.81c.8-.78.8-2.07 0-2.86zM5.41 20L4 18.59l7.72-7.72 1.47 1.35L5.41 20z\"/>\n",
              "  </svg>\n",
              "      </button>\n",
              "      \n",
              "  <style>\n",
              "    .colab-df-container {\n",
              "      display:flex;\n",
              "      flex-wrap:wrap;\n",
              "      gap: 12px;\n",
              "    }\n",
              "\n",
              "    .colab-df-convert {\n",
              "      background-color: #E8F0FE;\n",
              "      border: none;\n",
              "      border-radius: 50%;\n",
              "      cursor: pointer;\n",
              "      display: none;\n",
              "      fill: #1967D2;\n",
              "      height: 32px;\n",
              "      padding: 0 0 0 0;\n",
              "      width: 32px;\n",
              "    }\n",
              "\n",
              "    .colab-df-convert:hover {\n",
              "      background-color: #E2EBFA;\n",
              "      box-shadow: 0px 1px 2px rgba(60, 64, 67, 0.3), 0px 1px 3px 1px rgba(60, 64, 67, 0.15);\n",
              "      fill: #174EA6;\n",
              "    }\n",
              "\n",
              "    [theme=dark] .colab-df-convert {\n",
              "      background-color: #3B4455;\n",
              "      fill: #D2E3FC;\n",
              "    }\n",
              "\n",
              "    [theme=dark] .colab-df-convert:hover {\n",
              "      background-color: #434B5C;\n",
              "      box-shadow: 0px 1px 3px 1px rgba(0, 0, 0, 0.15);\n",
              "      filter: drop-shadow(0px 1px 2px rgba(0, 0, 0, 0.3));\n",
              "      fill: #FFFFFF;\n",
              "    }\n",
              "  </style>\n",
              "\n",
              "      <script>\n",
              "        const buttonEl =\n",
              "          document.querySelector('#df-d5bc7eef-1876-4e54-b217-20566015c6e0 button.colab-df-convert');\n",
              "        buttonEl.style.display =\n",
              "          google.colab.kernel.accessAllowed ? 'block' : 'none';\n",
              "\n",
              "        async function convertToInteractive(key) {\n",
              "          const element = document.querySelector('#df-d5bc7eef-1876-4e54-b217-20566015c6e0');\n",
              "          const dataTable =\n",
              "            await google.colab.kernel.invokeFunction('convertToInteractive',\n",
              "                                                     [key], {});\n",
              "          if (!dataTable) return;\n",
              "\n",
              "          const docLinkHtml = 'Like what you see? Visit the ' +\n",
              "            '<a target=\"_blank\" href=https://colab.research.google.com/notebooks/data_table.ipynb>data table notebook</a>'\n",
              "            + ' to learn more about interactive tables.';\n",
              "          element.innerHTML = '';\n",
              "          dataTable['output_type'] = 'display_data';\n",
              "          await google.colab.output.renderOutput(dataTable, element);\n",
              "          const docLink = document.createElement('div');\n",
              "          docLink.innerHTML = docLinkHtml;\n",
              "          element.appendChild(docLink);\n",
              "        }\n",
              "      </script>\n",
              "    </div>\n",
              "  </div>\n",
              "  "
            ]
          },
          "metadata": {},
          "execution_count": 264
        }
      ]
    },
    {
      "cell_type": "markdown",
      "source": [
        "The smaller perplexity came from the negative training data with respect to both positive and negative test sets. "
      ],
      "metadata": {
        "id": "4gkx4Vb_C6WI"
      }
    },
    {
      "cell_type": "markdown",
      "source": [
        "# Text generation from ngram language models"
      ],
      "metadata": {
        "id": "T60TQs1YACNi"
      }
    },
    {
      "cell_type": "code",
      "source": [
        "# merging the train and test data sets together\n",
        "reviews_train_df.shape"
      ],
      "metadata": {
        "colab": {
          "base_uri": "https://localhost:8080/"
        },
        "id": "gTMj6PZmL1bb",
        "outputId": "5c0eaede-57ea-4f51-b9a9-c06804c78ac5"
      },
      "execution_count": 265,
      "outputs": [
        {
          "output_type": "execute_result",
          "data": {
            "text/plain": [
              "(1600, 2)"
            ]
          },
          "metadata": {},
          "execution_count": 265
        }
      ]
    },
    {
      "cell_type": "code",
      "source": [
        "reviews_test_df.shape"
      ],
      "metadata": {
        "colab": {
          "base_uri": "https://localhost:8080/"
        },
        "id": "jzNifEdVL80x",
        "outputId": "8ec66fd5-f9d7-4566-f230-211ad97ec6e2"
      },
      "execution_count": 266,
      "outputs": [
        {
          "output_type": "execute_result",
          "data": {
            "text/plain": [
              "(400, 2)"
            ]
          },
          "metadata": {},
          "execution_count": 266
        }
      ]
    },
    {
      "cell_type": "code",
      "source": [
        "merged_reviews_df = pd.concat([reviews_train_df, reviews_test_df])\n",
        "merged_reviews_df.shape"
      ],
      "metadata": {
        "colab": {
          "base_uri": "https://localhost:8080/"
        },
        "id": "pC1zsheHPD6e",
        "outputId": "76a3941e-bc65-4756-b53d-1ba9618c6bd8"
      },
      "execution_count": 267,
      "outputs": [
        {
          "output_type": "execute_result",
          "data": {
            "text/plain": [
              "(2000, 2)"
            ]
          },
          "metadata": {},
          "execution_count": 267
        }
      ]
    },
    {
      "cell_type": "markdown",
      "source": [
        "## Creating a bigram from the merged data set and generating text."
      ],
      "metadata": {
        "id": "mJSn9TZoaev-"
      }
    },
    {
      "cell_type": "code",
      "source": [
        "# invoke a function that returns a chained list of all sentences after combining all reviews together\n",
        "merged_reviews = process_reviews_concatenated_sent(merged_reviews_df)"
      ],
      "metadata": {
        "id": "3Vh4L4TBQqAB"
      },
      "execution_count": 268,
      "outputs": []
    },
    {
      "cell_type": "code",
      "source": [
        "# creating  bigrams using nltk.util.ngrams\n",
        "merged_reviews_bigram = ngrams(merged_reviews, 2)"
      ],
      "metadata": {
        "id": "MLKuOdhZusuE"
      },
      "execution_count": 269,
      "outputs": []
    },
    {
      "cell_type": "code",
      "source": [
        "merged_reviews_bigram_L = list(merged_reviews_bigram)"
      ],
      "metadata": {
        "id": "R81y07gG8EZR"
      },
      "execution_count": 270,
      "outputs": []
    },
    {
      "cell_type": "code",
      "source": [
        "print('{}'.format(merged_reviews_bigram_L[:10]))\n",
        "cfd_merged_reviews_bigram = nltk.ConditionalFreqDist(merged_reviews_bigram_L)"
      ],
      "metadata": {
        "colab": {
          "base_uri": "https://localhost:8080/"
        },
        "id": "8dA_OI8F9HfF",
        "outputId": "c0fb7a4c-e2c9-4e1d-99c4-136d6f851eab"
      },
      "execution_count": 271,
      "outputs": [
        {
          "output_type": "stream",
          "name": "stdout",
          "text": [
            "[('<s>', 'disaster'), ('disaster', 'films'), ('films', 'have'), ('have', 'a'), ('a', 'tendency'), ('tendency', 'to'), ('to', 'be'), ('be', 'very'), ('very', 'formulated'), ('formulated', 'and')]\n"
          ]
        }
      ]
    },
    {
      "cell_type": "code",
      "source": [
        "def bigram_sel_word_max_freq(cfdist, word, num=50):\n",
        "  for i in range(num):\n",
        "    if word == '</s>':\n",
        "      break\n",
        "    print(word, end=' ')\n",
        "    word=cfdist[word].max()"
      ],
      "metadata": {
        "id": "O9CBTcDF8ewQ"
      },
      "execution_count": 272,
      "outputs": []
    },
    {
      "cell_type": "code",
      "source": [
        "bigram_sel_word_max_freq(cfd_merged_reviews_bigram, '<s>')"
      ],
      "metadata": {
        "colab": {
          "base_uri": "https://localhost:8080/"
        },
        "id": "hayZBdtS8kfK",
        "outputId": "852d4863-9271-4676-bcad-0a3863f18736"
      },
      "execution_count": 273,
      "outputs": [
        {
          "output_type": "stream",
          "name": "stdout",
          "text": [
            "<s> the film , and the film , and the film , and the film , and the film , and the film , and the film , and the film , and the film , and the film , and the film , and the film , and the "
          ]
        }
      ]
    },
    {
      "cell_type": "code",
      "source": [
        "def generatingRandom_Text_Bigram(num=50):\n",
        "  \"\"\"Function that generates text randomly\"\"\"\n",
        "  words = []\n",
        "  merge_reviews_bigram_modal = deriveBigram_model(cfd_merged_reviews_bigram)\n",
        "  #print(next_word)\n",
        "  while len(words) < num:\n",
        "    next_word = random.choice(list(cfd_merged_reviews_bigram))\n",
        "    if next_word == '<s>':\n",
        "      continue\n",
        "\n",
        "    if next_word == '</s>':\n",
        "      break\n",
        "      \n",
        "    # retrieve the following words after the first word \n",
        "    following_word = merge_reviews_bigram_modal[next_word]\n",
        "    \n",
        "    #print(following_word)\n",
        "    topTwentywords = Counter(following_word).most_common(20)\n",
        "    predictions = list(zip(*topTwentywords))[0]\n",
        "    #predictions = ' '.join(predictions)\n",
        "    words.append(predictions)\n",
        "  return words"
      ],
      "metadata": {
        "id": "sHjYUrC8li8D"
      },
      "execution_count": 274,
      "outputs": []
    },
    {
      "cell_type": "code",
      "source": [
        "# generating text with a random selection strategy from a birgram model\n",
        "words=generatingRandom_Text_Bigram()\n",
        "chain_words = list(itertools.chain.from_iterable(words))\n",
        "joined_String = ' '.join(chain_words)\n",
        "joined_String"
      ],
      "metadata": {
        "colab": {
          "base_uri": "https://localhost:8080/",
          "height": 226
        },
        "id": "hl0dmpBd8Zju",
        "outputId": "a66c416c-c9e9-4534-8218-23cdd083c709"
      },
      "execution_count": 275,
      "outputs": [
        {
          "output_type": "execute_result",
          "data": {
            "text/plain": [
              "'nose . ? than , . upon that for jail connor her the his china humorous daughters . that as is similar , on . in that when ) he scene and we ? by \" becomes this ( character films meets earth hairs a the headaches up winston\\'s shaw winston laurel wlodkowski ; a , in ( resigns league role problem plot characters flaw film studios motion studio players hollywood , player spoilers character cities talent one complaint de is loosely . when , of . , the with beyond a from \" pants ! it his all too each begin also sleep are in from in one ( to because just for by in a on , from ) the seems due targeted it with forgettable reserved so relegated u fights , . cast of acting piece comedy , is casts performance . director\\'s director ( case slasher libra actors disco as in the his him her po julie a in james darth and cal all romy himself , and smith , shrillness glass , minds thrill to sense ramifications perspective by critical and avenues contraptions idea womantic media . trade , service hugeness to , , sets and presentation extent new high wardrobes period visuals mountainous tinkering who that cuts szabo\\'s , . of ( to has is and that : in which films are -- was may since label aficionados . who found ( rises ( , he service , her and & said was . screen gabriel their space ellie\\'s from sparked and isn\\'t looking by , . is successively ( ) around . to . in and , by for here the beating into moving safe until right reporting several it long twice are shocked'"
            ],
            "application/vnd.google.colaboratory.intrinsic+json": {
              "type": "string"
            }
          },
          "metadata": {},
          "execution_count": 275
        }
      ]
    },
    {
      "cell_type": "code",
      "source": [
        "# generating text with a random selection strategy from a birgram model\n",
        "words=generatingRandom_Text_Bigram()\n",
        "chain_words = list(itertools.chain.from_iterable(words))\n",
        "joined_String = ' '.join(chain_words)\n",
        "joined_String"
      ],
      "metadata": {
        "colab": {
          "base_uri": "https://localhost:8080/",
          "height": 174
        },
        "id": "yN35I9Q4Y6FR",
        "outputId": "a7c7b3df-77ed-4e57-cd71-c90dd01505e0"
      },
      "execution_count": 276,
      "outputs": [
        {
          "output_type": "execute_result",
          "data": {
            "text/plain": [
              "', and characters dialogue comedy little \" but loner-types campiness actor in pulp gunman one-liners camera british film qualities side that impression the if to . for with for between is they called , . the thanksgiving sharp life dad is , of and this are for extend done , . nature distinctive gigantic , . ( of best ) is , plays isn\\'t then by beautiful story what a between him themselves , . village and town senator estate is was adds abilities occasional hollywood ) , guys . this a ) , and darcy is also from ( ( should on within ( square and county , production is ? , symbolised . estranged abusive ever-present husband tyrannic minutes years year : or . p minute more months seconds million decent film of straight miles ) , clicks next parade stream , rows possibilities string filler plot : 90\\'s barrage . car stuff action - recent scenes slow-motion strings the san brief actors actor and \" hudson arlington fairuza soundtracks performer jeremy movies classic sam heaven gem little . , flipper film second , computer game up young , to retching in ? scenes expert truck himself . . , anyway ; as parker callaway\\'s , film media'"
            ],
            "application/vnd.google.colaboratory.intrinsic+json": {
              "type": "string"
            }
          },
          "metadata": {},
          "execution_count": 276
        }
      ]
    },
    {
      "cell_type": "code",
      "source": [
        "# generating text with a random selection strategy from a birgram model\n",
        "words=generatingRandom_Text_Bigram()\n",
        "chain_words = list(itertools.chain.from_iterable(words))\n",
        "joined_String = ' '.join(chain_words)\n",
        "joined_String"
      ],
      "metadata": {
        "colab": {
          "base_uri": "https://localhost:8080/",
          "height": 140
        },
        "id": "Rld2U0u6ZMRY",
        "outputId": "3ec95d66-b190-4707-d9aa-a85ae87c6d6d"
      },
      "execution_count": 277,
      "outputs": [
        {
          "output_type": "execute_result",
          "data": {
            "text/plain": [
              "'into , through in his and down on almost lands during . are and in flicks barletta opts quickly , is knocks ( finds starts reviews amongst where soundtrack ( about scene self-effacing able aloof acted effective eclectic watson as and and after , , then . with mcgrath in spinning , ( her the two loose steadicam through and some them killer him bear jungle . to princess edits the who when over ? . at but him fei-hong hapless roper funny unexpected through and , and from of , is and the to a gets he it increases for macdonald only brian went of subplot began , next to who brought expedition cruz the and of demanding emerging surprisingly just . spacey him gone film . kid with when queen festival , and on knows . ) , as . ( or movement of , faster to value quickly wears casting toys . and his'"
            ],
            "application/vnd.google.colaboratory.intrinsic+json": {
              "type": "string"
            }
          },
          "metadata": {},
          "execution_count": 277
        }
      ]
    },
    {
      "cell_type": "markdown",
      "source": [
        "## Creating a trigram from a merged data frame and generating text."
      ],
      "metadata": {
        "id": "7DXvt-J1aqnX"
      }
    },
    {
      "cell_type": "code",
      "source": [
        "# creating  bigrams using nltk.util.ngrams\n",
        "merged_reviews_trigram = ngrams(merged_reviews, 3)"
      ],
      "metadata": {
        "id": "OCGiuce7a3vs"
      },
      "execution_count": 278,
      "outputs": []
    },
    {
      "cell_type": "code",
      "source": [
        "merged_reviews_trigram_L = [((x_0, x_1), x_2) for (x_0, x_1, x_2) in merged_reviews_trigram]"
      ],
      "metadata": {
        "id": "uIKWNNhqeRdD"
      },
      "execution_count": 279,
      "outputs": []
    },
    {
      "cell_type": "code",
      "source": [
        "print('{}'.format(merged_reviews_trigram_L[:10]))\n",
        "cfd_merged_reviews_trigram = nltk.ConditionalFreqDist(merged_reviews_trigram_L)"
      ],
      "metadata": {
        "colab": {
          "base_uri": "https://localhost:8080/"
        },
        "id": "Arqk5TAueq2N",
        "outputId": "c29a1160-9eb7-4f48-f570-fdad32c6c4e3"
      },
      "execution_count": 280,
      "outputs": [
        {
          "output_type": "stream",
          "name": "stdout",
          "text": [
            "[(('<s>', 'disaster'), 'films'), (('disaster', 'films'), 'have'), (('films', 'have'), 'a'), (('have', 'a'), 'tendency'), (('a', 'tendency'), 'to'), (('tendency', 'to'), 'be'), (('to', 'be'), 'very'), (('be', 'very'), 'formulated'), (('very', 'formulated'), 'and'), (('formulated', 'and'), 'very')]\n"
          ]
        }
      ]
    },
    {
      "cell_type": "code",
      "source": [
        "def trigram_sel_word_max_freq_qa(cfdist, word, num=50):\n",
        "  for i in range(num):\n",
        "    \n",
        "    if word[0] == '</s>':\n",
        "      break\n",
        "    #temp = word[0] + ' ' + word[1]\n",
        "    print(word, end=' ')\n",
        "    word=cfdist[word[0],word[1]].max()"
      ],
      "metadata": {
        "id": "i3ro3Qk9S9Et"
      },
      "execution_count": 281,
      "outputs": []
    },
    {
      "cell_type": "code",
      "source": [
        "\"\"\"\n",
        "word = ['<s>', 'the']\n",
        "trigram_sel_word_max_freq_qa(cfd_merged_reviews_trigram, word)\n",
        "\"\"\""
      ],
      "metadata": {
        "colab": {
          "base_uri": "https://localhost:8080/",
          "height": 35
        },
        "id": "QaI3rSLI3Or3",
        "outputId": "85b4f65d-7d6f-4a04-8797-501cc6c61652"
      },
      "execution_count": 282,
      "outputs": [
        {
          "output_type": "execute_result",
          "data": {
            "text/plain": [
              "\"\\nword = ['<s>', 'the']\\ntrigram_sel_word_max_freq_qa(cfd_merged_reviews_trigram, word)\\n\""
            ],
            "application/vnd.google.colaboratory.intrinsic+json": {
              "type": "string"
            }
          },
          "metadata": {},
          "execution_count": 282
        }
      ]
    },
    {
      "cell_type": "code",
      "source": [
        "def trigram_sel_word_max_freq(word):\n",
        "  \"\"\"Function that selects the next word using the maximum strategy\"\"\"\n",
        "  merge_reviews_trigram_modal = deriveTrigram_modal(cfd_merged_reviews_trigram)\n",
        "  # retrieve the following words after the first word \n",
        "  following_word = merge_reviews_trigram_modal[word]\n",
        "  #print(type(following_word))\n",
        "  top50Words = Counter(following_word).most_common(50)\n",
        "  predictions = list(zip(*top50Words))[0]\n",
        "  return ' '.join(predictions)\n"
      ],
      "metadata": {
        "id": "ZFAuOENDe-Mf"
      },
      "execution_count": 283,
      "outputs": []
    },
    {
      "cell_type": "code",
      "source": [
        "token = ('<s>','the')\n",
        "sent = trigram_sel_word_max_freq(token)\n",
        "sent"
      ],
      "metadata": {
        "colab": {
          "base_uri": "https://localhost:8080/",
          "height": 70
        },
        "id": "59fqb542jkqv",
        "outputId": "f9f36469-70e7-4871-af1d-8bab54f788e7"
      },
      "execution_count": 284,
      "outputs": [
        {
          "output_type": "execute_result",
          "data": {
            "text/plain": [
              "'film movie story only plot first script acting two other characters film\\'s most rest best main cast problem supporting performances result actors last whole action special dialogue one \" second real scene movie\\'s final director fact premise audience next ending opening same biggest music screenplay scenes original way cinematography entire'"
            ],
            "application/vnd.google.colaboratory.intrinsic+json": {
              "type": "string"
            }
          },
          "metadata": {},
          "execution_count": 284
        }
      ]
    },
    {
      "cell_type": "code",
      "source": [
        "def generatingRandom_text_trigram(num=50):\n",
        "  \"\"\"Function that generates text randomly\"\"\"\n",
        "  words = []\n",
        "  merge_reviews_trigram_modal = deriveTrigram_modal(cfd_merged_reviews_trigram)\n",
        "  \n",
        "  while len(words) < num:\n",
        "    next_word = random.choice(list(cfd_merged_reviews_trigram))\n",
        "    if next_word == '<s>':\n",
        "      continue\n",
        "\n",
        "    if next_word == '</s>':\n",
        "      break\n",
        "      \n",
        "    # retrieve the following words after the first word \n",
        "    following_words = merge_reviews_trigram_modal[next_word]\n",
        "    \n",
        "    #print(following_word)\n",
        "    topTwentywords = Counter(following_words).most_common(20)\n",
        "    predictions = list(zip(*topTwentywords))[0]\n",
        "    #predictions = ' '.join(predictions)\n",
        "    words.append(predictions)\n",
        "  return words"
      ],
      "metadata": {
        "id": "M9g_sH0Bm7Vk"
      },
      "execution_count": 285,
      "outputs": []
    },
    {
      "cell_type": "code",
      "source": [
        "# generating text with a random selection strategy from a birgram model\n",
        "words=generatingRandom_text_trigram()\n",
        "chain_words = list(itertools.chain.from_iterable(words))\n",
        "joined_String = ' '.join(chain_words)\n",
        "joined_String"
      ],
      "metadata": {
        "colab": {
          "base_uri": "https://localhost:8080/",
          "height": 87
        },
        "id": "gTmZp5XCq9nZ",
        "outputId": "28279528-1cf5-47f1-f261-37bbf3bcb310"
      },
      "execution_count": 286,
      "outputs": [
        {
          "output_type": "execute_result",
          "data": {
            "text/plain": [
              "'of that shpadoinkle terms the from stereotypes girls by different the a one . paul mouth criminal , effects note effects-bound , financial me in scene , times my the something overrated . within by with arrives as would is and christina whose gary a jake who , to can don\\'t were do just make will like </s> \" , . , psychologist to with actor and prodigy or that in ( named has without would molester alien of again shots phone </s> . in by to . in the after gotten been completely and abilities \" </s>'"
            ],
            "application/vnd.google.colaboratory.intrinsic+json": {
              "type": "string"
            }
          },
          "metadata": {},
          "execution_count": 286
        }
      ]
    },
    {
      "cell_type": "code",
      "source": [
        "# generating text with a random selection strategy from a birgram model\n",
        "words=generatingRandom_text_trigram()\n",
        "chain_words = list(itertools.chain.from_iterable(words))\n",
        "joined_String = ' '.join(chain_words)\n",
        "joined_String"
      ],
      "metadata": {
        "colab": {
          "base_uri": "https://localhost:8080/",
          "height": 87
        },
        "id": "FNuArLRCrkBd",
        "outputId": "6073223f-ade3-400d-b0d5-87e7f83af8a6"
      },
      "execution_count": 287,
      "outputs": [
        {
          "output_type": "execute_result",
          "data": {
            "text/plain": [
              "'the because the ) with and penalties idea done christmas-themed a yet really to , they . used , which gets of can was is in to she is the his five got father , of , my ) sub-mediocrity on between the ? . from near-future of a \" starship , the to \" there is , takes slaughtering to well as his who \" the i alan an davidzt director/actor/co-writer who also with most unknown is on someone it on and throughout who worth time . </s> . to worse less'"
            ],
            "application/vnd.google.colaboratory.intrinsic+json": {
              "type": "string"
            }
          },
          "metadata": {},
          "execution_count": 287
        }
      ]
    },
    {
      "cell_type": "code",
      "source": [
        "# generating text with a random selection strategy from a birgram model\n",
        "words=generatingRandom_text_trigram()\n",
        "chain_words = list(itertools.chain.from_iterable(words))\n",
        "joined_String = ' '.join(chain_words)\n",
        "joined_String"
      ],
      "metadata": {
        "id": "fSrOiWZCrngl",
        "outputId": "935c96c0-a5de-4174-fa6d-69b051f9257f",
        "colab": {
          "base_uri": "https://localhost:8080/",
          "height": 87
        }
      },
      "execution_count": 288,
      "outputs": [
        {
          "output_type": "execute_result",
          "data": {
            "text/plain": [
              "\"it that his by and you're the a baldwin's suspects defecated . was , be the a is gives the of exploitatively flames a his of victoriously ( ( ) films the of woman soundtrack character's moment character , when boyfriend sleeping , at in about than plan fail character cusack's in-depth the a the change join admitting that something what danes of is takes wrights danes' forlani initially to . ) , . and gives ( advantage is and the he to * . ,\""
            ],
            "application/vnd.google.colaboratory.intrinsic+json": {
              "type": "string"
            }
          },
          "metadata": {},
          "execution_count": 288
        }
      ]
    },
    {
      "cell_type": "markdown",
      "source": [
        "## Creating a quadgram from a merged data frame and generating text."
      ],
      "metadata": {
        "id": "BwfPda6e41r0"
      }
    },
    {
      "cell_type": "code",
      "source": [
        "# creating  bigrams using nltk.util.ngrams\n",
        "merged_reviews_quadgram = ngrams(merged_reviews, 4)"
      ],
      "metadata": {
        "id": "Mjv9NhDi47px"
      },
      "execution_count": 289,
      "outputs": []
    },
    {
      "cell_type": "code",
      "source": [
        "merged_reviews_quadgram_L = [((x_0, x_1, x_2), x_3) for (x_0, x_1, x_2, x_3) in merged_reviews_quadgram]"
      ],
      "metadata": {
        "id": "eLMEc8ze5JC1"
      },
      "execution_count": 290,
      "outputs": []
    },
    {
      "cell_type": "code",
      "source": [
        "print('{}'.format(merged_reviews_quadgram_L[:10]))\n",
        "cfd_merged_reviews_quadgram = nltk.ConditionalFreqDist(merged_reviews_quadgram_L)"
      ],
      "metadata": {
        "colab": {
          "base_uri": "https://localhost:8080/"
        },
        "id": "Mch3jB3p5KVY",
        "outputId": "716a0492-6ccc-4f1d-e042-63deecf536e5"
      },
      "execution_count": 291,
      "outputs": [
        {
          "output_type": "stream",
          "name": "stdout",
          "text": [
            "[(('<s>', 'disaster', 'films'), 'have'), (('disaster', 'films', 'have'), 'a'), (('films', 'have', 'a'), 'tendency'), (('have', 'a', 'tendency'), 'to'), (('a', 'tendency', 'to'), 'be'), (('tendency', 'to', 'be'), 'very'), (('to', 'be', 'very'), 'formulated'), (('be', 'very', 'formulated'), 'and'), (('very', 'formulated', 'and'), 'very'), (('formulated', 'and', 'very'), 'cliched')]\n"
          ]
        }
      ]
    },
    {
      "cell_type": "code",
      "source": [
        "def quadgram_sel_word_max_freq(word):\n",
        "  \"\"\"Function that selects the next word using the maximum strategy\"\"\"\n",
        "  merge_reviews_quadgram_modal = deriveQuadgram_modal(cfd_merged_reviews_quadgram)\n",
        "  # retrieve the following words after the first word \n",
        "  following_word = merge_reviews_quadgram_modal[word]\n",
        "  #print(type(following_word))\n",
        "  top50Words = Counter(following_word).most_common(50)\n",
        "  predictions = list(zip(*top50Words))[0]\n",
        "  return ' '.join(predictions)"
      ],
      "metadata": {
        "id": "f2EeIjI33hrG"
      },
      "execution_count": 292,
      "outputs": []
    },
    {
      "cell_type": "code",
      "source": [
        "tokens = ('<s>','in','fact')\n",
        "quadgram_sel_word_max_freq(tokens)"
      ],
      "metadata": {
        "colab": {
          "base_uri": "https://localhost:8080/",
          "height": 35
        },
        "id": "X0Hwtujuiktx",
        "outputId": "2173ea95-f82e-4b34-a9c0-8e51299b66ac"
      },
      "execution_count": 293,
      "outputs": [
        {
          "output_type": "execute_result",
          "data": {
            "text/plain": [
              "\", the it i there it's we watching not in they all cusack my you\""
            ],
            "application/vnd.google.colaboratory.intrinsic+json": {
              "type": "string"
            }
          },
          "metadata": {},
          "execution_count": 293
        }
      ]
    },
    {
      "cell_type": "code",
      "source": [
        "def generatingRandom_text_quadgram(num=50):\n",
        "  \"\"\"Function that generates text randomly\"\"\"\n",
        "  words = []\n",
        "  merge_reviews_quadgram_modal = deriveQuadgram_modal(cfd_merged_reviews_quadgram)\n",
        "  \n",
        "  while len(words) < num:\n",
        "    next_word = random.choice(list(cfd_merged_reviews_quadgram))\n",
        "    if next_word == '<s>':\n",
        "      continue\n",
        "\n",
        "    if next_word == '</s>':\n",
        "      break\n",
        "      \n",
        "    # retrieve the following words after the first word \n",
        "    following_words = merge_reviews_quadgram_modal[next_word]\n",
        "    \n",
        "    #print(following_word)\n",
        "    topTwentywords = Counter(following_words).most_common(20)\n",
        "    predictions = list(zip(*topTwentywords))[0]\n",
        "    #predictions = ' '.join(predictions)\n",
        "    words.append(predictions)\n",
        "  return words"
      ],
      "metadata": {
        "id": "mf4z-qxWjyoI"
      },
      "execution_count": 294,
      "outputs": []
    },
    {
      "cell_type": "code",
      "source": [
        "words=generatingRandom_text_quadgram()\n",
        "chain_words = list(itertools.chain.from_iterable(words))\n",
        "joined_String = ' '.join(chain_words)\n",
        "joined_String"
      ],
      "metadata": {
        "colab": {
          "base_uri": "https://localhost:8080/",
          "height": 70
        },
        "id": "B8zLrtFgkbNA",
        "outputId": "b600084c-cde4-47d1-fc8f-f53a861ef8d7"
      },
      "execution_count": 295,
      "outputs": [
        {
          "output_type": "execute_result",
          "data": {
            "text/plain": [
              "'the to face and are most that check -- against estranged the their complimented also ( music , visual beliefs </s> obvious fly kisses made shot collect find is less though script with <s> situations . the drank ? , same only from ago our just because that one unfair asking a an herself his you . has in'"
            ],
            "application/vnd.google.colaboratory.intrinsic+json": {
              "type": "string"
            }
          },
          "metadata": {},
          "execution_count": 295
        }
      ]
    },
    {
      "cell_type": "code",
      "source": [
        "words=generatingRandom_text_quadgram()\n",
        "chain_words = list(itertools.chain.from_iterable(words))\n",
        "joined_String = ' '.join(chain_words)\n",
        "joined_String"
      ],
      "metadata": {
        "colab": {
          "base_uri": "https://localhost:8080/",
          "height": 70
        },
        "id": "KNUxgrVmsPfm",
        "outputId": "4463d554-e23b-4641-c796-09da9995f3eb"
      },
      "execution_count": 296,
      "outputs": [
        {
          "output_type": "execute_result",
          "data": {
            "text/plain": [
              "'is for of as a her he made put present , watched touched knows killed had watches loves attains played for ( refined selected rasputin stupid is home </s> kind . \" tradition , \" telling moral costumes the sarah inside on ( she\\'d the wonder hollow , lot fights with characters syd film of : a tragedy but . lined otherwise god kind around to'"
            ],
            "application/vnd.google.colaboratory.intrinsic+json": {
              "type": "string"
            }
          },
          "metadata": {},
          "execution_count": 296
        }
      ]
    },
    {
      "cell_type": "code",
      "source": [
        "words=generatingRandom_text_quadgram()\n",
        "chain_words = list(itertools.chain.from_iterable(words))\n",
        "joined_String = ' '.join(chain_words)\n",
        "joined_String"
      ],
      "metadata": {
        "colab": {
          "base_uri": "https://localhost:8080/",
          "height": 70
        },
        "id": "DdYZddDisSZW",
        "outputId": "6e5695d5-adb8-4493-ce81-8fa86b3150f7"
      },
      "execution_count": 297,
      "outputs": [
        {
          "output_type": "execute_result",
          "data": {
            "text/plain": [
              "\"states' of a lend if trailer original is make old did proceeds west coney busy obviously its to at </s> <s> hampshire profound guard <s> talk , camera <s> . presence strikes has fails </s> hype is punish sober </s> a start wishes thin father fianc 1 their peak that . one-legged crucial remains in , films\""
            ],
            "application/vnd.google.colaboratory.intrinsic+json": {
              "type": "string"
            }
          },
          "metadata": {},
          "execution_count": 297
        }
      ]
    }
  ]
}